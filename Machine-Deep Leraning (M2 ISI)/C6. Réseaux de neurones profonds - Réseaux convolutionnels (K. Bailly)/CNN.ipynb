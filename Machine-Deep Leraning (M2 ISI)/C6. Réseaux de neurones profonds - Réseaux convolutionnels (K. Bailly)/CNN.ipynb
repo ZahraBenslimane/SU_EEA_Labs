{
 "cells": [
  {
   "cell_type": "markdown",
   "metadata": {},
   "source": [
    "# Les réseaux convolutionnels"
   ]
  },
  {
   "cell_type": "markdown",
   "metadata": {},
   "source": [
    "Réseau inspiré de http://yann.lecun.com/exdb/publis/pdf/lecun-98.pdf"
   ]
  },
  {
   "cell_type": "markdown",
   "metadata": {},
   "source": [
    "## 1. Importation des librairies"
   ]
  },
  {
   "cell_type": "code",
   "execution_count": 7,
   "metadata": {},
   "outputs": [],
   "source": [
    "import tensorflow as tf\n",
    "import numpy as np\n",
    "import matplotlib.pyplot as plt\n",
    "import tensorflow as tf\n",
    "\n",
    "from tensorflow.keras.models import  Sequential\n",
    "from tensorflow.keras.layers import Conv2D, MaxPooling2D, Flatten, Dense, Dropout\n",
    "\n",
    "## pour que les résultats soient reproductibles\n",
    "#from numpy.random import seed\n",
    "#seed(1)\n",
    "#from tensorflow import set_random_seed\n",
    "#set_random_seed(1)"
   ]
  },
  {
   "cell_type": "markdown",
   "metadata": {},
   "source": [
    "## 2. Chargement et conditionnement des données d'apprentissage"
   ]
  },
  {
   "cell_type": "markdown",
   "metadata": {},
   "source": [
    "Chargement et normalisation des données"
   ]
  },
  {
   "cell_type": "code",
   "execution_count": 8,
   "metadata": {},
   "outputs": [],
   "source": [
    "mnist = tf.keras.datasets.mnist\n",
    "(train_images, train_labels), (test_images, test_labels) = mnist.load_data()\n",
    "train_images = train_images / 255.0"
   ]
  },
  {
   "cell_type": "markdown",
   "metadata": {},
   "source": [
    "Pour les CNN : On rajoute une dimension pour spécifier qu'il s'agit d'imgages en NdG"
   ]
  },
  {
   "cell_type": "code",
   "execution_count": 9,
   "metadata": {},
   "outputs": [],
   "source": [
    "train_images = train_images.reshape(60000,28,28,1)\n",
    "test_images = test_images.reshape(10000,28,28,1)"
   ]
  },
  {
   "cell_type": "markdown",
   "metadata": {},
   "source": [
    "One hot encoding"
   ]
  },
  {
   "cell_type": "code",
   "execution_count": 10,
   "metadata": {},
   "outputs": [],
   "source": [
    "train_labels = tf.keras.utils.to_categorical(train_labels)\n",
    "test_labels = tf.keras.utils.to_categorical(test_labels)"
   ]
  },
  {
   "cell_type": "markdown",
   "metadata": {},
   "source": [
    "## 3. Architecture du réseau "
   ]
  },
  {
   "cell_type": "markdown",
   "metadata": {},
   "source": [
    "Concevoir un réseau inspiré LeNet5 http://yann.lecun.com/exdb/publis/pdf/lecun-98.pdf\n",
    "![LeNet5](https://miro.medium.com/max/2000/1*1TI1aGBZ4dybR6__DI9dzA.png)\n",
    "\n",
    "\n",
    "La structure globale sera conservée (nombre de couches, nombre de neurones par couche…) mais dans cette version :\n",
    "- Les couches de convolution sont totalement connectées\n",
    "- La sortie est une couche fully connected (FC) classique \n",
    "- La fonction de coût est l’entropie croisée\n"
   ]
  },
  {
   "cell_type": "code",
   "execution_count": 15,
   "metadata": {},
   "outputs": [
    {
     "name": "stdout",
     "output_type": "stream",
     "text": [
      "Model: \"sequential_5\"\n",
      "_________________________________________________________________\n",
      " Layer (type)                Output Shape              Param #   \n",
      "=================================================================\n",
      " conv2d_6 (Conv2D)           (None, 28, 28, 6)         156       \n",
      "                                                                 \n",
      " max_pooling2d_6 (MaxPooling  (None, 14, 14, 6)        0         \n",
      " 2D)                                                             \n",
      "                                                                 \n",
      " conv2d_7 (Conv2D)           (None, 10, 10, 16)        2416      \n",
      "                                                                 \n",
      " max_pooling2d_7 (MaxPooling  (None, 5, 5, 16)         0         \n",
      " 2D)                                                             \n",
      "                                                                 \n",
      " flatten_3 (Flatten)         (None, 400)               0         \n",
      "                                                                 \n",
      " dense_9 (Dense)             (None, 120)               48120     \n",
      "                                                                 \n",
      " dense_10 (Dense)            (None, 84)                10164     \n",
      "                                                                 \n",
      " dense_11 (Dense)            (None, 10)                850       \n",
      "                                                                 \n",
      "=================================================================\n",
      "Total params: 61,706\n",
      "Trainable params: 61,706\n",
      "Non-trainable params: 0\n",
      "_________________________________________________________________\n",
      "None\n"
     ]
    }
   ],
   "source": [
    "mnist_model = tf.keras.models.Sequential()\n",
    "\n",
    "# CONV_1: add CONV layer with RELU activation and depth = 6 kernels\n",
    "mnist_model.add(Conv2D(6, kernel_size=(5, 5), padding='same',activation='relu',input_shape=(28,28,1)))\n",
    "# POOL_1: downsample the image to choose the best features \n",
    "mnist_model.add(MaxPooling2D(pool_size=(2, 2)))\n",
    "\n",
    "# CONV_2: here we increase the depth to 16\n",
    "mnist_model.add(Conv2D(16, (5, 5), activation='relu'))\n",
    "# POOL_2: more downsampling\n",
    "mnist_model.add(MaxPooling2D(pool_size=(2, 2)))\n",
    "\n",
    "# flatten since too many dimensions, we only want a classification output\n",
    "mnist_model.add(Flatten())\n",
    "\n",
    "# FC_1: fully connected to get all relevant data\n",
    "mnist_model.add(Dense(120, activation='relu'))\n",
    "\n",
    "# FC_2: fully connected to get all relevant data\n",
    "mnist_model.add(Dense(84, activation='relu'))\n",
    "\n",
    "# FC_3: output a softmax to squash the matrix into output probabilities for the 10 classes\n",
    "mnist_model.add(Dense(10, activation='softmax'))\n",
    "\n",
    "# expliquer le nombre de paramètre de ce réseau\n",
    "print(mnist_model.summary())"
   ]
  },
  {
   "cell_type": "code",
   "execution_count": 16,
   "metadata": {},
   "outputs": [],
   "source": [
    "optim ='adam'\n",
    "\n",
    "mnist_model.compile(loss='categorical_crossentropy', optimizer=optim, metrics=['accuracy'])"
   ]
  },
  {
   "cell_type": "markdown",
   "metadata": {},
   "source": [
    "## 4. Apprentissage du réseau"
   ]
  },
  {
   "cell_type": "code",
   "execution_count": 17,
   "metadata": {},
   "outputs": [
    {
     "name": "stdout",
     "output_type": "stream",
     "text": [
      "Epoch 1/10\n",
      "1875/1875 [==============================] - 121s 63ms/step - loss: 0.1746 - accuracy: 0.9475 - val_loss: 6.4450 - val_accuracy: 0.9844\n",
      "Epoch 2/10\n",
      "1875/1875 [==============================] - 123s 66ms/step - loss: 0.0593 - accuracy: 0.9813 - val_loss: 11.2391 - val_accuracy: 0.9800\n",
      "Epoch 3/10\n",
      "1875/1875 [==============================] - 124s 66ms/step - loss: 0.0424 - accuracy: 0.9869 - val_loss: 6.9331 - val_accuracy: 0.9864\n",
      "Epoch 4/10\n",
      "1875/1875 [==============================] - 124s 66ms/step - loss: 0.0341 - accuracy: 0.9896 - val_loss: 8.0867 - val_accuracy: 0.9855\n",
      "Epoch 5/10\n",
      "1875/1875 [==============================] - 124s 66ms/step - loss: 0.0271 - accuracy: 0.9915 - val_loss: 6.9295 - val_accuracy: 0.9882\n",
      "Epoch 6/10\n",
      "1875/1875 [==============================] - 122s 65ms/step - loss: 0.0214 - accuracy: 0.9932 - val_loss: 10.5272 - val_accuracy: 0.9841\n",
      "Epoch 7/10\n",
      "1875/1875 [==============================] - 121s 64ms/step - loss: 0.0189 - accuracy: 0.9938 - val_loss: 9.3118 - val_accuracy: 0.9863\n",
      "Epoch 8/10\n",
      "1875/1875 [==============================] - 120s 64ms/step - loss: 0.0170 - accuracy: 0.9941 - val_loss: 8.7490 - val_accuracy: 0.9885\n",
      "Epoch 9/10\n",
      "1875/1875 [==============================] - 121s 64ms/step - loss: 0.0149 - accuracy: 0.9952 - val_loss: 11.2521 - val_accuracy: 0.9861\n",
      "Epoch 10/10\n",
      "1875/1875 [==============================] - 120s 64ms/step - loss: 0.0124 - accuracy: 0.9959 - val_loss: 15.4956 - val_accuracy: 0.9831\n"
     ]
    },
    {
     "data": {
      "text/plain": [
       "<keras.callbacks.History at 0x1f74707eb80>"
      ]
     },
     "execution_count": 17,
     "metadata": {},
     "output_type": "execute_result"
    }
   ],
   "source": [
    "mnist_model.fit(train_images, train_labels, epochs=10, \n",
    "                    validation_data=(test_images, test_labels))"
   ]
  },
  {
   "cell_type": "markdown",
   "metadata": {},
   "source": [
    "## 5. Evaluation du modèle sur la base de test"
   ]
  },
  {
   "cell_type": "code",
   "execution_count": 18,
   "metadata": {},
   "outputs": [
    {
     "name": "stdout",
     "output_type": "stream",
     "text": [
      "313/313 [==============================] - 1s 5ms/step - loss: 15.4956 - accuracy: 0.9831\n",
      "Test accuracy: 0.9830999970436096\n"
     ]
    }
   ],
   "source": [
    "test_loss, test_acc = mnist_model.evaluate(test_images, test_labels)\n",
    "print('Test accuracy:', test_acc)"
   ]
  },
  {
   "cell_type": "markdown",
   "metadata": {},
   "source": [
    "## 6. Visualisation des filtres appris prar me réseau"
   ]
  },
  {
   "cell_type": "markdown",
   "metadata": {},
   "source": [
    "Compléter la fonction de visualisation des filtres suivante :"
   ]
  },
  {
   "cell_type": "code",
   "execution_count": 19,
   "metadata": {},
   "outputs": [],
   "source": [
    "def displayConvFilers(model, layer_name, nb_filter=4, filter_size=(3,3), num_channel=0, fig_size=(2,2)):\n",
    "    '''\n",
    "    model : le réseau de neurone dont on souhaite visualiser les filtres\n",
    "    nb_filter : le nombre de filtre que l'on souhaite visualiser\n",
    "    filter size : la taille des filtres de la couche\n",
    "    num_channel : le numéro du canal que l'on souaite visualiser \n",
    "    fig_size : les dimensions de la figure. Doivent être en cohérence avec nb_filter\n",
    "    '''\n",
    "    ...\n"
   ]
  },
  {
   "cell_type": "markdown",
   "metadata": {},
   "source": [
    "Appeler deux fois la fonction pour afficher des filtres de la première couche et des filtres de la deuxième couche de convolution"
   ]
  },
  {
   "cell_type": "code",
   "execution_count": null,
   "metadata": {},
   "outputs": [],
   "source": [
    "displayConvFilers(...)\n",
    "\n",
    "displayConvFilers(...)"
   ]
  },
  {
   "cell_type": "code",
   "execution_count": null,
   "metadata": {},
   "outputs": [],
   "source": []
  }
 ],
 "metadata": {
  "kernelspec": {
   "display_name": "Python 3 (ipykernel)",
   "language": "python",
   "name": "python3"
  },
  "language_info": {
   "codemirror_mode": {
    "name": "ipython",
    "version": 3
   },
   "file_extension": ".py",
   "mimetype": "text/x-python",
   "name": "python",
   "nbconvert_exporter": "python",
   "pygments_lexer": "ipython3",
   "version": "3.8.13"
  }
 },
 "nbformat": 4,
 "nbformat_minor": 4
}
