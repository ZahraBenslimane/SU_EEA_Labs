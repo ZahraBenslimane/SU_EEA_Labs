{
 "cells": [
  {
   "cell_type": "markdown",
   "metadata": {},
   "source": [
    "## Exercice GradientTape"
   ]
  },
  {
   "cell_type": "markdown",
   "metadata": {},
   "source": [
    "En vous aidant de la documentation en ligne de tf.GrandientTape :\n",
    "- https://www.tensorflow.org/tutorials/customization/autodiff\n",
    "- https://www.tensorflow.org/api_docs/python/tf/GradientTape\n",
    "\n",
    "Reprenez l'exemple du calcul du gradient donné en cours (cours Réseaux de neurones multicouches, B. Gas) de la fonction suivante : \n",
    "\n",
    "$\\mathcal{L}(\\hat{y},y) = (\\sigma(W^TX+\\theta)-y)^2$\n",
    "\n",
    "Calculez 𝜕L⁄𝜕𝑋 et 𝜕L⁄𝜕𝑊 pour les valeurs de X et de W données en cours et vérifiez que vous obtenez les mêmes résultats"
   ]
  },
  {
   "cell_type": "code",
   "execution_count": 9,
   "metadata": {},
   "outputs": [],
   "source": [
    "import tensorflow as tf"
   ]
  },
  {
   "cell_type": "code",
   "execution_count": 15,
   "metadata": {},
   "outputs": [
    {
     "name": "stdout",
     "output_type": "stream",
     "text": [
      "dl_dw = [[ 1.9423628 -1.2949085]]  - dl_db = [[0.64745426 0.9711814 ]]\n"
     ]
    }
   ],
   "source": [
    "# on définit les valeurs des variables du problème\n",
    "X = tf.constant([[-3.0,2.0]])\n",
    "W = tf.constant([[-1.0,-1.5]])\n",
    "theta = tf.constant(0.5)\n",
    "y = tf.constant(2.0)\n",
    "\n",
    "with tf.GradientTape(persistent=True) as tape:   # persistent = True  : avoir le gradient pour deux variables !\n",
    "    tape.watch(X)\n",
    "    tape.watch(W)\n",
    "    v = tf.matmul(W, tf.transpose(X)) + theta\n",
    "    y_hat = tf.math.sigmoid(v)\n",
    "    loss = (y_hat - y)**2\n",
    "   \n",
    "[dl_dw, dl_db] = tape.gradient(loss, [W, X])   \n",
    "\n",
    "print(\"dl_dw = {}  - dl_db = {}\".format(dl_dw, dl_db))"
   ]
  },
  {
   "cell_type": "markdown",
   "metadata": {},
   "source": []
  }
 ],
 "metadata": {
  "kernelspec": {
   "display_name": "Python 3 (ipykernel)",
   "language": "python",
   "name": "python3"
  },
  "language_info": {
   "codemirror_mode": {
    "name": "ipython",
    "version": 3
   },
   "file_extension": ".py",
   "mimetype": "text/x-python",
   "name": "python",
   "nbconvert_exporter": "python",
   "pygments_lexer": "ipython3",
   "version": "3.8.13"
  }
 },
 "nbformat": 4,
 "nbformat_minor": 4
}
