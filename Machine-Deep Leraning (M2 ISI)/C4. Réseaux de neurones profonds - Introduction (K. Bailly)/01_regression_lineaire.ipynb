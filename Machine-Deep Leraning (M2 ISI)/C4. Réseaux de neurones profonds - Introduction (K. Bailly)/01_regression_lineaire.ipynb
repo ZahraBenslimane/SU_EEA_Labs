{
 "cells": [
  {
   "cell_type": "markdown",
   "metadata": {},
   "source": [
    "# Exemple simple de regression linéaire"
   ]
  },
  {
   "cell_type": "markdown",
   "metadata": {},
   "source": [
    "## 1. Importation des librairies"
   ]
  },
  {
   "cell_type": "code",
   "execution_count": 1,
   "metadata": {
    "scrolled": true
   },
   "outputs": [],
   "source": [
    "import tensorflow as tf\n",
    "import numpy as np\n",
    "import matplotlib.pyplot as plt\n",
    "from time import time\n",
    "\n",
    "import warnings\n",
    "#warnings.filterwarnings('ignore')"
   ]
  },
  {
   "cell_type": "markdown",
   "metadata": {},
   "source": [
    "## 2. Définition des données d'apprentissage"
   ]
  },
  {
   "cell_type": "code",
   "execution_count": 2,
   "metadata": {},
   "outputs": [],
   "source": [
    "a = 0.1\n",
    "b = -0.5\n",
    "X = np.arange(0,1,0.05)\n",
    "Y_gt = a*X + b\n",
    "Y = Y_gt + np.random.uniform(-0.02,0.02,X.shape)"
   ]
  },
  {
   "cell_type": "markdown",
   "metadata": {},
   "source": [
    "## 3. Architecture du réseau "
   ]
  },
  {
   "cell_type": "code",
   "execution_count": 3,
   "metadata": {},
   "outputs": [],
   "source": [
    "linear_model = tf.keras.models.Sequential()\n",
    "#une première couche avec un neurone (couche cachée)\n",
    "linear_model.add(tf.keras.layers.Dense(1, input_shape=(1,)))\n",
    "\n",
    "## Définition des paramètres d'apprentissage\n",
    "# On choisit la méthode d'optimisation\n",
    "sgd = tf.keras.optimizers.SGD(learning_rate=0.01, momentum=0.9)\n",
    "\n",
    "# On compile le graphe en précisant le nom fonction de coût utlisée\n",
    "linear_model.compile(sgd, loss='mean_squared_error', metrics=['mean_absolute_error'])\n",
    "\n",
    "# il minimise l'erreur quadratique mais on le visualise la metrique\n"
   ]
  },
  {
   "cell_type": "markdown",
   "metadata": {},
   "source": [
    "## 4. Apprentissage du réseau"
   ]
  },
  {
   "cell_type": "code",
   "execution_count": 4,
   "metadata": {},
   "outputs": [
    {
     "name": "stdout",
     "output_type": "stream",
     "text": [
      "Epoch 1/50\n",
      "20/20 [==============================] - 1s 2ms/step - loss: 0.6937 - mean_absolute_error: 0.7163\n",
      "Epoch 2/50\n",
      "20/20 [==============================] - 0s 2ms/step - loss: 0.1412 - mean_absolute_error: 0.2997\n",
      "Epoch 3/50\n",
      "20/20 [==============================] - 0s 2ms/step - loss: 0.0365 - mean_absolute_error: 0.1563\n",
      "Epoch 4/50\n",
      "20/20 [==============================] - 0s 2ms/step - loss: 0.0131 - mean_absolute_error: 0.0972\n",
      "Epoch 5/50\n",
      "20/20 [==============================] - 0s 2ms/step - loss: 0.0072 - mean_absolute_error: 0.0745\n",
      "Epoch 6/50\n",
      "20/20 [==============================] - 0s 2ms/step - loss: 0.0043 - mean_absolute_error: 0.0581\n",
      "Epoch 7/50\n",
      "20/20 [==============================] - 0s 2ms/step - loss: 0.0021 - mean_absolute_error: 0.0398\n",
      "Epoch 8/50\n",
      "20/20 [==============================] - 0s 2ms/step - loss: 0.0012 - mean_absolute_error: 0.0312\n",
      "Epoch 9/50\n",
      "20/20 [==============================] - 0s 2ms/step - loss: 7.5041e-04 - mean_absolute_error: 0.0235\n",
      "Epoch 10/50\n",
      "20/20 [==============================] - 0s 2ms/step - loss: 4.2751e-04 - mean_absolute_error: 0.0183\n",
      "Epoch 11/50\n",
      "20/20 [==============================] - 0s 2ms/step - loss: 3.0618e-04 - mean_absolute_error: 0.0143\n",
      "Epoch 12/50\n",
      "20/20 [==============================] - 0s 2ms/step - loss: 2.3986e-04 - mean_absolute_error: 0.0126\n",
      "Epoch 13/50\n",
      "20/20 [==============================] - 0s 2ms/step - loss: 2.0344e-04 - mean_absolute_error: 0.0117\n",
      "Epoch 14/50\n",
      "20/20 [==============================] - 0s 2ms/step - loss: 1.9911e-04 - mean_absolute_error: 0.0120\n",
      "Epoch 15/50\n",
      "20/20 [==============================] - 0s 2ms/step - loss: 2.1895e-04 - mean_absolute_error: 0.0127\n",
      "Epoch 16/50\n",
      "20/20 [==============================] - 0s 2ms/step - loss: 1.8752e-04 - mean_absolute_error: 0.0113\n",
      "Epoch 17/50\n",
      "20/20 [==============================] - 0s 2ms/step - loss: 1.8145e-04 - mean_absolute_error: 0.0122\n",
      "Epoch 18/50\n",
      "20/20 [==============================] - 0s 2ms/step - loss: 1.8369e-04 - mean_absolute_error: 0.0121\n",
      "Epoch 19/50\n",
      "20/20 [==============================] - 0s 2ms/step - loss: 1.8150e-04 - mean_absolute_error: 0.0109\n",
      "Epoch 20/50\n",
      "20/20 [==============================] - 0s 2ms/step - loss: 1.8068e-04 - mean_absolute_error: 0.0120\n",
      "Epoch 21/50\n",
      "20/20 [==============================] - 0s 2ms/step - loss: 1.6589e-04 - mean_absolute_error: 0.0116\n",
      "Epoch 22/50\n",
      "20/20 [==============================] - 0s 2ms/step - loss: 1.6249e-04 - mean_absolute_error: 0.0116\n",
      "Epoch 23/50\n",
      "20/20 [==============================] - 0s 2ms/step - loss: 1.6009e-04 - mean_absolute_error: 0.0113\n",
      "Epoch 24/50\n",
      "20/20 [==============================] - 0s 2ms/step - loss: 1.6309e-04 - mean_absolute_error: 0.0114\n",
      "Epoch 25/50\n",
      "20/20 [==============================] - 0s 2ms/step - loss: 1.6183e-04 - mean_absolute_error: 0.0116\n",
      "Epoch 26/50\n",
      "20/20 [==============================] - 0s 2ms/step - loss: 1.6999e-04 - mean_absolute_error: 0.0113\n",
      "Epoch 27/50\n",
      "20/20 [==============================] - 0s 2ms/step - loss: 1.7556e-04 - mean_absolute_error: 0.0121\n",
      "Epoch 28/50\n",
      "20/20 [==============================] - 0s 2ms/step - loss: 1.7937e-04 - mean_absolute_error: 0.0116\n",
      "Epoch 29/50\n",
      "20/20 [==============================] - 0s 2ms/step - loss: 1.7654e-04 - mean_absolute_error: 0.0122\n",
      "Epoch 30/50\n",
      "20/20 [==============================] - 0s 2ms/step - loss: 1.7672e-04 - mean_absolute_error: 0.0124\n",
      "Epoch 31/50\n",
      "20/20 [==============================] - 0s 2ms/step - loss: 1.7571e-04 - mean_absolute_error: 0.0115\n",
      "Epoch 32/50\n",
      "20/20 [==============================] - 0s 2ms/step - loss: 1.8035e-04 - mean_absolute_error: 0.0113\n",
      "Epoch 33/50\n",
      "20/20 [==============================] - 0s 2ms/step - loss: 1.9478e-04 - mean_absolute_error: 0.0126\n",
      "Epoch 34/50\n",
      "20/20 [==============================] - 0s 2ms/step - loss: 1.7574e-04 - mean_absolute_error: 0.0116\n",
      "Epoch 35/50\n",
      "20/20 [==============================] - 0s 2ms/step - loss: 1.7984e-04 - mean_absolute_error: 0.0117\n",
      "Epoch 36/50\n",
      "20/20 [==============================] - 0s 2ms/step - loss: 1.9542e-04 - mean_absolute_error: 0.0129\n",
      "Epoch 37/50\n",
      "20/20 [==============================] - 0s 2ms/step - loss: 1.6234e-04 - mean_absolute_error: 0.0114\n",
      "Epoch 38/50\n",
      "20/20 [==============================] - 0s 2ms/step - loss: 1.7876e-04 - mean_absolute_error: 0.0121\n",
      "Epoch 39/50\n",
      "20/20 [==============================] - 0s 2ms/step - loss: 1.8373e-04 - mean_absolute_error: 0.0121\n",
      "Epoch 40/50\n",
      "20/20 [==============================] - 0s 2ms/step - loss: 1.5804e-04 - mean_absolute_error: 0.0113\n",
      "Epoch 41/50\n",
      "20/20 [==============================] - 0s 2ms/step - loss: 1.8182e-04 - mean_absolute_error: 0.0126\n",
      "Epoch 42/50\n",
      "20/20 [==============================] - 0s 2ms/step - loss: 1.7616e-04 - mean_absolute_error: 0.0116\n",
      "Epoch 43/50\n",
      "20/20 [==============================] - 0s 2ms/step - loss: 1.7077e-04 - mean_absolute_error: 0.0114\n",
      "Epoch 44/50\n",
      "20/20 [==============================] - 0s 2ms/step - loss: 1.9166e-04 - mean_absolute_error: 0.0126\n",
      "Epoch 45/50\n",
      "20/20 [==============================] - 0s 2ms/step - loss: 1.7678e-04 - mean_absolute_error: 0.0115\n",
      "Epoch 46/50\n",
      "20/20 [==============================] - 0s 2ms/step - loss: 1.6550e-04 - mean_absolute_error: 0.0116\n",
      "Epoch 47/50\n",
      "20/20 [==============================] - 0s 2ms/step - loss: 1.6132e-04 - mean_absolute_error: 0.0114\n",
      "Epoch 48/50\n",
      "20/20 [==============================] - 0s 2ms/step - loss: 1.6845e-04 - mean_absolute_error: 0.0117\n",
      "Epoch 49/50\n",
      "20/20 [==============================] - 0s 2ms/step - loss: 2.0127e-04 - mean_absolute_error: 0.0124\n",
      "Epoch 50/50\n",
      "20/20 [==============================] - 0s 2ms/step - loss: 1.7963e-04 - mean_absolute_error: 0.0123\n"
     ]
    },
    {
     "data": {
      "text/plain": [
       "<keras.callbacks.History at 0x186fcfc9eb0>"
      ]
     },
     "execution_count": 4,
     "metadata": {},
     "output_type": "execute_result"
    }
   ],
   "source": [
    "# On commence l'apprentissage à proprement parler\n",
    "linear_model.fit(X, Y, batch_size=1, epochs=50, shuffle='True')   \n",
    "\n",
    "# shuffle : a chaque epoch il change l'ordre ou il voit les exemples"
   ]
  },
  {
   "cell_type": "code",
   "execution_count": 5,
   "metadata": {},
   "outputs": [
    {
     "name": "stdout",
     "output_type": "stream",
     "text": [
      "[array([[0.10972287]], dtype=float32), array([-0.49926075], dtype=float32)]\n"
     ]
    }
   ],
   "source": [
    "# Affichage du paramètres du reseau après l'apprentissage\n",
    "# Qu'observez vous ?\n",
    "weights = linear_model.layers[0].get_weights()\n",
    "print(weights)"
   ]
  },
  {
   "cell_type": "markdown",
   "metadata": {},
   "source": [
    "## 5. Prédiction par le réseau"
   ]
  },
  {
   "cell_type": "code",
   "execution_count": 6,
   "metadata": {},
   "outputs": [
    {
     "name": "stdout",
     "output_type": "stream",
     "text": [
      "1/1 [==============================] - 0s 110ms/step\n"
     ]
    }
   ],
   "source": [
    "Y_pred = linear_model.predict(X)"
   ]
  },
  {
   "cell_type": "markdown",
   "metadata": {},
   "source": [
    "## 6. Visualisation des résultats"
   ]
  },
  {
   "cell_type": "code",
   "execution_count": 7,
   "metadata": {},
   "outputs": [
    {
     "data": {
      "image/png": "[encoded data removed]",
      "text/plain": [
       "<Figure size 640x480 with 1 Axes>"
      ]
     },
     "metadata": {},
     "output_type": "display_data"
    }
   ],
   "source": [
    "plt.plot(X,Y,'.b')\n",
    "plt.plot(X,Y_pred,'r')\n",
    "plt.plot(X,Y_gt,'g')\n",
    "plt.show()"
   ]
  },
  {
   "cell_type": "markdown",
   "metadata": {},
   "source": [
    "## A faire"
   ]
  },
  {
   "cell_type": "markdown",
   "metadata": {},
   "source": [
    "- Observer la robustesse du modèle en faisant varier l'intensité du bruit sur les exemples\n",
    "- Observer le résultat de l'apprentissage pour d'autres fonctions affines"
   ]
  },
  {
   "cell_type": "code",
   "execution_count": null,
   "metadata": {},
   "outputs": [],
   "source": []
  }
 ],
 "metadata": {
  "kernelspec": {
   "display_name": "Python 3 (ipykernel)",
   "language": "python",
   "name": "python3"
  },
  "language_info": {
   "codemirror_mode": {
    "name": "ipython",
    "version": 3
   },
   "file_extension": ".py",
   "mimetype": "text/x-python",
   "name": "python",
   "nbconvert_exporter": "python",
   "pygments_lexer": "ipython3",
   "version": "3.8.13"
  }
 },
 "nbformat": 4,
 "nbformat_minor": 4
}
