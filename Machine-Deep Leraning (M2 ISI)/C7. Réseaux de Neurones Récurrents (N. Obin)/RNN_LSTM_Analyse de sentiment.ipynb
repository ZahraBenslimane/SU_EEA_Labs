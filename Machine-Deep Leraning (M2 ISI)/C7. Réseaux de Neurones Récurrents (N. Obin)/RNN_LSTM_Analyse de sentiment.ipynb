{
 "cells": [
  {
   "cell_type": "markdown",
   "metadata": {
    "id": "ZVe1FicvXd87"
   },
   "source": [
    "#  RNN-LSTM et architectures avancées [Analyse de sentiment]"
   ]
  },
  {
   "cell_type": "code",
   "execution_count": null,
   "metadata": {
    "id": "2fzWWPZ4Xd9P"
   },
   "outputs": [],
   "source": [
    "# Dans ce notebook, nous allons nous intéresser à des tâches d'analyse de sentiments\n",
    "# -> c'est à dire prédire un label de sentiment (ici positif ou négatif) à partir d'un texte\n",
    "\n",
    "# Ce notebook vise à approfondir : \n",
    "# - L'application du DL sur des données textuelles\n",
    "# - La compréhension des architectures RNN avancées comme les LSTM et les mécanismes d'attention\n",
    "#"
   ]
  },
  {
   "cell_type": "markdown",
   "metadata": {
    "id": "Dam9QjwQXd9d"
   },
   "source": [
    "# 1. Importation des modules"
   ]
  },
  {
   "cell_type": "code",
   "execution_count": null,
   "metadata": {
    "id": "t5iz4fMIXd9d"
   },
   "outputs": [],
   "source": [
    "# On importe les librairies usuelless\n",
    "import math\n",
    "import numpy as np\n",
    "import matplotlib.pyplot as plt\n",
    "import re\n",
    "# On désactive les warnings\n",
    "import warnings\n",
    "warnings.filterwarnings('ignore')\n"
   ]
  },
  {
   "cell_type": "code",
   "execution_count": null,
   "metadata": {
    "id": "ytYr4Z76Xd9n"
   },
   "outputs": [],
   "source": [
    "def affiche(history):\n",
    "    # summarize history for accuracy\n",
    "    plt.style.use(\"ggplot\")\n",
    "    plt.plot(history.history['accuracy'])\n",
    "    plt.plot(history.history['val_accuracy'])\n",
    "    plt.title('model accuracy')\n",
    "    plt.ylabel('accuracy')\n",
    "    plt.xlabel('epoch')\n",
    "    plt.legend(['train', 'test'], loc='upper left')\n",
    "    plt.show()\n",
    "    # summarize history for loss\n",
    "    plt.plot(history.history['loss'])\n",
    "    plt.plot(history.history['val_loss'])\n",
    "    plt.title('model loss')\n",
    "    plt.ylabel('loss')\n",
    "    plt.xlabel('epoch')\n",
    "    plt.legend(['train', 'test'], loc='upper left')\n",
    "    plt.show()"
   ]
  },
  {
   "cell_type": "markdown",
   "metadata": {
    "id": "QdGtC83FXd98"
   },
   "source": [
    "## 1. Charger les données"
   ]
  },
  {
   "cell_type": "code",
   "execution_count": null,
   "metadata": {
    "id": "pgBnlHpxXd98"
   },
   "outputs": [],
   "source": [
    "import pandas as pd\n",
    "#import os\n",
    "#os.system(\"kaggle datasets download -d utathya/imdb-review-dataset\")\n",
    "\n",
    "# On lit le fichier csv de la base d'avis de IMDB (qui doit être préalablement être placé dans le dossier ./data/)\n",
    "#data = pd.read_csv('./imdb_master.csv',encoding=\"latin-1\")\n"
   ]
  },
  {
   "cell_type": "code",
   "execution_count": null,
   "metadata": {
    "id": "eolTwoufXd-A",
    "outputId": "6cbb8d1e-9e73-4e0b-e673-ec7ce10b9c80"
   },
   "outputs": [
    {
     "name": "stdout",
     "output_type": "stream",
     "text": [
      "<class 'pandas.core.frame.DataFrame'>\n"
     ]
    }
   ],
   "source": [
    "# On visualise les données brutes\n",
    "print(type(data))"
   ]
  },
  {
   "cell_type": "code",
   "execution_count": null,
   "metadata": {
    "id": "Fv0n7EaGXd-G",
    "outputId": "d4c2b11f-82e8-4afe-8724-e6d6f155da69"
   },
   "outputs": [
    {
     "data": {
      "text/html": [
       "<div>\n",
       "<style scoped>\n",
       "    .dataframe tbody tr th:only-of-type {\n",
       "        vertical-align: middle;\n",
       "    }\n",
       "\n",
       "    .dataframe tbody tr th {\n",
       "        vertical-align: top;\n",
       "    }\n",
       "\n",
       "    .dataframe thead th {\n",
       "        text-align: right;\n",
       "    }\n",
       "</style>\n",
       "<table border=\"1\" class=\"dataframe\">\n",
       "  <thead>\n",
       "    <tr style=\"text-align: right;\">\n",
       "      <th></th>\n",
       "      <th>Unnamed: 0</th>\n",
       "      <th>type</th>\n",
       "      <th>review</th>\n",
       "      <th>label</th>\n",
       "      <th>file</th>\n",
       "    </tr>\n",
       "  </thead>\n",
       "  <tbody>\n",
       "    <tr>\n",
       "      <th>0</th>\n",
       "      <td>0</td>\n",
       "      <td>test</td>\n",
       "      <td>Once again Mr. Costner has dragged out a movie...</td>\n",
       "      <td>neg</td>\n",
       "      <td>0_2.txt</td>\n",
       "    </tr>\n",
       "    <tr>\n",
       "      <th>1</th>\n",
       "      <td>1</td>\n",
       "      <td>test</td>\n",
       "      <td>This is an example of why the majority of acti...</td>\n",
       "      <td>neg</td>\n",
       "      <td>10000_4.txt</td>\n",
       "    </tr>\n",
       "    <tr>\n",
       "      <th>2</th>\n",
       "      <td>2</td>\n",
       "      <td>test</td>\n",
       "      <td>First of all I hate those moronic rappers, who...</td>\n",
       "      <td>neg</td>\n",
       "      <td>10001_1.txt</td>\n",
       "    </tr>\n",
       "    <tr>\n",
       "      <th>3</th>\n",
       "      <td>3</td>\n",
       "      <td>test</td>\n",
       "      <td>Not even the Beatles could write songs everyon...</td>\n",
       "      <td>neg</td>\n",
       "      <td>10002_3.txt</td>\n",
       "    </tr>\n",
       "    <tr>\n",
       "      <th>4</th>\n",
       "      <td>4</td>\n",
       "      <td>test</td>\n",
       "      <td>Brass pictures (movies is not a fitting word f...</td>\n",
       "      <td>neg</td>\n",
       "      <td>10003_3.txt</td>\n",
       "    </tr>\n",
       "  </tbody>\n",
       "</table>\n",
       "</div>"
      ],
      "text/plain": [
       "   Unnamed: 0  type                                             review label  \\\n",
       "0           0  test  Once again Mr. Costner has dragged out a movie...   neg   \n",
       "1           1  test  This is an example of why the majority of acti...   neg   \n",
       "2           2  test  First of all I hate those moronic rappers, who...   neg   \n",
       "3           3  test  Not even the Beatles could write songs everyon...   neg   \n",
       "4           4  test  Brass pictures (movies is not a fitting word f...   neg   \n",
       "\n",
       "          file  \n",
       "0      0_2.txt  \n",
       "1  10000_4.txt  \n",
       "2  10001_1.txt  \n",
       "3  10002_3.txt  \n",
       "4  10003_3.txt  "
      ]
     },
     "execution_count": 101,
     "metadata": {
      "tags": []
     },
     "output_type": "execute_result"
    }
   ],
   "source": [
    "# On visualise le tableau de données (en utilisant les méthodes de data)\n",
    "data.head()"
   ]
  },
  {
   "cell_type": "markdown",
   "metadata": {
    "id": "Bx0gHT1SXd-K"
   },
   "source": [
    "## 2. Formater/Préparer les données"
   ]
  },
  {
   "cell_type": "code",
   "execution_count": null,
   "metadata": {
    "id": "E0nfA31cXd-M"
   },
   "outputs": [],
   "source": [
    "# FORMATAGE DES DONNEES\n",
    "\n",
    "# On supprimes les données sans label\n",
    "data = data[data.label != 'unsup']\n",
    "#data.head()\n",
    "# On reformate les labels et entiers (pos = 0; neg = 1)\n",
    "data['label'] = data['label'].map({'pos': 1, 'neg': 0})\n",
    "# On supprime les champs inutiles\n",
    "data = data.drop(['Unnamed: 0','file'],axis=1)\n",
    "\n",
    "# On visualise le tableau de données\n",
    "data.head()\n",
    "data.to_csv(\"./resultat_tmp.csv\", sep = ',')    # ---> OK"
   ]
  },
  {
   "cell_type": "code",
   "execution_count": null,
   "metadata": {
    "colab": {
     "base_uri": "https://localhost:8080/",
     "height": 271
    },
    "executionInfo": {
     "elapsed": 3366,
     "status": "ok",
     "timestamp": 1603875259434,
     "user": {
      "displayName": "Sofiane Ihaddadene",
      "photoUrl": "https://lh3.googleusercontent.com/a-/AOh14GgtEWwvJRIoSTY9NYoM4UDVaa16O080mgkZ0icLSw=s64",
      "userId": "08383148905956059445"
     },
     "user_tz": -60
    },
    "id": "GreUV4D4Xd-W",
    "outputId": "1807f9f4-aa02-4d6e-8034-cb5ae4dca8b6"
   },
   "outputs": [
    {
     "name": "stdout",
     "output_type": "stream",
     "text": [
      "[nltk_data] Downloading package wordnet to /root/nltk_data...\n",
      "[nltk_data]   Unzipping corpora/wordnet.zip.\n",
      "[nltk_data] Downloading package stopwords to /root/nltk_data...\n",
      "[nltk_data]   Unzipping corpora/stopwords.zip.\n"
     ]
    },
    {
     "data": {
      "text/html": [
       "<div>\n",
       "<style scoped>\n",
       "    .dataframe tbody tr th:only-of-type {\n",
       "        vertical-align: middle;\n",
       "    }\n",
       "\n",
       "    .dataframe tbody tr th {\n",
       "        vertical-align: top;\n",
       "    }\n",
       "\n",
       "    .dataframe thead th {\n",
       "        text-align: right;\n",
       "    }\n",
       "</style>\n",
       "<table border=\"1\" class=\"dataframe\">\n",
       "  <thead>\n",
       "    <tr style=\"text-align: right;\">\n",
       "      <th></th>\n",
       "      <th>Unnamed: 0</th>\n",
       "      <th>type</th>\n",
       "      <th>review</th>\n",
       "      <th>label</th>\n",
       "      <th>Processed_Reviews</th>\n",
       "    </tr>\n",
       "  </thead>\n",
       "  <tbody>\n",
       "    <tr>\n",
       "      <th>0</th>\n",
       "      <td>0</td>\n",
       "      <td>test</td>\n",
       "      <td>Once again Mr. Costner has dragged out a movie...</td>\n",
       "      <td>0</td>\n",
       "      <td>mr costner ha drag movie far longer necessary ...</td>\n",
       "    </tr>\n",
       "    <tr>\n",
       "      <th>1</th>\n",
       "      <td>1</td>\n",
       "      <td>test</td>\n",
       "      <td>This is an example of why the majority of acti...</td>\n",
       "      <td>0</td>\n",
       "      <td>example majority action film generic bore real...</td>\n",
       "    </tr>\n",
       "    <tr>\n",
       "      <th>2</th>\n",
       "      <td>2</td>\n",
       "      <td>test</td>\n",
       "      <td>First of all I hate those moronic rappers, who...</td>\n",
       "      <td>0</td>\n",
       "      <td>first hate moronic rapper couldnt act gun pres...</td>\n",
       "    </tr>\n",
       "    <tr>\n",
       "      <th>3</th>\n",
       "      <td>3</td>\n",
       "      <td>test</td>\n",
       "      <td>Not even the Beatles could write songs everyon...</td>\n",
       "      <td>0</td>\n",
       "      <td>even beatles could write song everyone like al...</td>\n",
       "    </tr>\n",
       "    <tr>\n",
       "      <th>4</th>\n",
       "      <td>4</td>\n",
       "      <td>test</td>\n",
       "      <td>Brass pictures (movies is not a fitting word f...</td>\n",
       "      <td>0</td>\n",
       "      <td>brass picture movie fit word really somewhat b...</td>\n",
       "    </tr>\n",
       "  </tbody>\n",
       "</table>\n",
       "</div>"
      ],
      "text/plain": [
       "   Unnamed: 0  type  ... label                                  Processed_Reviews\n",
       "0           0  test  ...     0  mr costner ha drag movie far longer necessary ...\n",
       "1           1  test  ...     0  example majority action film generic bore real...\n",
       "2           2  test  ...     0  first hate moronic rapper couldnt act gun pres...\n",
       "3           3  test  ...     0  even beatles could write song everyone like al...\n",
       "4           4  test  ...     0  brass picture movie fit word really somewhat b...\n",
       "\n",
       "[5 rows x 5 columns]"
      ]
     },
     "execution_count": 5,
     "metadata": {
      "tags": []
     },
     "output_type": "execute_result"
    }
   ],
   "source": [
    "# 2) FILTRER LES DONNEES\n",
    "#\n",
    "# Le nettoyage des données est une étape essentielle de pré-traitement pour optimiser l'apprentissage en aval\n",
    "#\n",
    "# Pour le texte, il s'agit de : \n",
    "# - normer le texte,  \n",
    "# - segmenter le texte en mots \n",
    "# - supprimer les mots peu porteurs d'information\n",
    "# - puis détermines les lemmes, de , etc...\n",
    "#\n",
    "\n",
    "# On importe la librarie nltk dédiée aux traitement du langage naturel\n",
    "import nltk\n",
    "import os.path\n",
    "nltk.download('wordnet')\n",
    "nltk.download('stopwords')\n",
    "\n",
    "# On peut utiliser l'environnement nltk spécialisé pour le traitement de texte\n",
    "# (WordNet, stopwords pré-appris sur des bases de données)\n",
    "from nltk.stem import WordNetLemmatizer\n",
    "from nltk.corpus import stopwords\n",
    "\n",
    "stop_words = set(stopwords.words(\"english\")) \n",
    "lemmatizer = WordNetLemmatizer()\n",
    "\n",
    "# On pré-traite le texte pour normaliser le texte en entrée\n",
    "# - On retire certains caractères spéciaux\n",
    "# - On force la casse en minuscule\n",
    "# - on retire tous les mots qui sont des \"stop_words\"\n",
    "# - on lemmatise les mots (~les formes canoniques)\n",
    "def preprocess_text(text):\n",
    "    text = re.sub(r'[^\\w\\s]','',text, re.UNICODE)\n",
    "    text = text.lower()\n",
    "    text = [lemmatizer.lemmatize(token) for token in text.split(\" \")]\n",
    "    text = [lemmatizer.lemmatize(token, \"v\") for token in text]\n",
    "    text = [word for word in text if not word in stop_words]\n",
    "    text = \" \".join(text)\n",
    "    return text\n",
    "\n",
    "# On pré-traite les données et on les place dans le champs \"Processed reviews\"\n",
    "if os.path.isfile(r\"./resultat.csv\") == True :\n",
    "    data = pd.read_csv('./resultat.csv',encoding=\"latin-1\")\n",
    "else :\n",
    "    data['Processed_Reviews'] = data.review.apply(lambda x: preprocess_text(x))\n",
    "    \n",
    "    data.to_csv(\"./resultat.csv\", sep = ',')\n",
    "    \n",
    "# On visualise les données\n",
    "data.head()"
   ]
  },
  {
   "cell_type": "markdown",
   "metadata": {
    "id": "hyt05T-mXd-d"
   },
   "source": [
    "\\s\n",
    "For Unicode (str) patterns:\n",
    "Matches Unicode whitespace characters (which includes [ \\t\\n\\r\\f\\v], and also many other characters, for example the non-breaking spaces mandated by typography rules in many languages). If the ASCII flag is used, only [ \\t\\n\\r\\f\\v] is matched.\n",
    "\n",
    "\\w\n",
    "For Unicode (str) patterns:\n",
    "Matches Unicode word characters; this includes most characters that can be part of a word in any language, as well as numbers and the underscore. If the ASCII flag is used, only [a-zA-Z0-9_] is matched.\n"
   ]
  },
  {
   "cell_type": "code",
   "execution_count": null,
   "metadata": {
    "colab": {
     "base_uri": "https://localhost:8080/",
     "height": 141
    },
    "executionInfo": {
     "elapsed": 12912,
     "status": "ok",
     "timestamp": 1603875348323,
     "user": {
      "displayName": "Sofiane Ihaddadene",
      "photoUrl": "https://lh3.googleusercontent.com/a-/AOh14GgtEWwvJRIoSTY9NYoM4UDVaa16O080mgkZ0icLSw=s64",
      "userId": "08383148905956059445"
     },
     "user_tz": -60
    },
    "id": "_rkJBFKIXd-d",
    "outputId": "05575950-5631-404a-de0e-e27c61272934"
   },
   "outputs": [
    {
     "name": "stdout",
     "output_type": "stream",
     "text": [
      "La phrase à encoder est : \n",
      "  mr costner ha drag movie far longer necessary aside terrific sea rescue sequence care character u ghost closet costners character realize early forget much later time care character really care cocky overconfident ashton kutcher problem come kid think better anyone else around show sign clutter closet obstacle appear win costner finally well past half way point stinker costner tell u kutchers ghost tell kutcher drive best prior inkling foreshadow magic wa could keep turn hour \n",
      "\n",
      "La phrase vectorisée est : \n",
      " [334, 10, 981, 2, 143, 1042, 1556, 1047, 1217, 1435, 1437, 352, 282, 15, 91, 976, 3454, 15, 454, 337, 414, 24, 219, 11, 282, 15, 20, 282, 213, 39, 154, 19, 59, 173, 254, 104, 21, 1123, 3454, 263, 424, 342, 22, 445, 247, 37, 89, 3223, 84, 91, 976, 84, 492, 53, 2239, 1234, 3, 43, 119, 94, 246] \n",
      "\n"
     ]
    }
   ],
   "source": [
    "# On découpe les phrases en \"mots\"\n",
    "\n",
    "from tensorflow.keras.preprocessing.text import Tokenizer\n",
    "\n",
    "# On ne retient que les 5,000 tokens les plus fréquents (dans le texte)\n",
    "max_features = 5000\n",
    "tokenizer = Tokenizer(num_words=max_features)\n",
    "tokenizer.fit_on_texts(data['Processed_Reviews'])\n",
    "\n",
    "# On vectorise les mots\n",
    "\n",
    "\n",
    "print(\"La phrase à encoder est : \\n  {} \\n\" .format(data['Processed_Reviews'][0]))\n",
    "\n",
    "# On vectorise les tokens en séquences numériques\n",
    "list_tokenized_train = tokenizer.texts_to_sequences(data['Processed_Reviews']) # return a list of sequences \n",
    "\n",
    "print(\"La phrase vectorisée est : \\n {} \\n\". format(list_tokenized_train[0]))"
   ]
  },
  {
   "cell_type": "code",
   "execution_count": null,
   "metadata": {
    "colab": {
     "base_uri": "https://localhost:8080/",
     "height": 173
    },
    "executionInfo": {
     "elapsed": 1680,
     "status": "ok",
     "timestamp": 1603875350029,
     "user": {
      "displayName": "Sofiane Ihaddadene",
      "photoUrl": "https://lh3.googleusercontent.com/a-/AOh14GgtEWwvJRIoSTY9NYoM4UDVaa16O080mgkZ0icLSw=s64",
      "userId": "08383148905956059445"
     },
     "user_tz": -60
    },
    "id": "bx3zEvQaXd-g",
    "outputId": "717f9866-10f3-4dc7-e9a7-70a1c5e021a5"
   },
   "outputs": [
    {
     "name": "stdout",
     "output_type": "stream",
     "text": [
      "La phrase paddée sur une longueur 100 est : \n",
      " [   0    0    0    0    0    0    0    0    0    0    0    0    0    0\n",
      "    0    0    0    0    0    0    0    0    0    0    0    0    0    0\n",
      "    0    0    0    0    0    0    0    0    0    0    0  334   10  981\n",
      "    2  143 1042 1556 1047 1217 1435 1437  352  282   15   91  976 3454\n",
      "   15  454  337  414   24  219   11  282   15   20  282  213   39  154\n",
      "   19   59  173  254  104   21 1123 3454  263  424  342   22  445  247\n",
      "   37   89 3223   84   91  976   84  492   53 2239 1234    3   43  119\n",
      "   94  246]\n"
     ]
    }
   ],
   "source": [
    "# On padde les séquences\n",
    "\n",
    "from tensorflow.keras.preprocessing.sequence import pad_sequences\n",
    "'''\n",
    "tf.keras.preprocessing.sequence.pad_sequences(\n",
    "    sequences, maxlen=None, dtype='int32', padding='pre', truncating='pre',\n",
    "    value=0.0\n",
    ")\n",
    "'''\n",
    "# On padde les séquence de mot\n",
    "max_len = 100\n",
    "X       = pad_sequences(list_tokenized_train, maxlen=max_len)\n",
    "\n",
    "print(\"La phrase paddée sur une longueur {} est : \\n {}\". format(max_len, X[0]))\n",
    "      "
   ]
  },
  {
   "cell_type": "code",
   "execution_count": null,
   "metadata": {
    "id": "WDhuqqahXd-k"
   },
   "outputs": [],
   "source": [
    "# On crée les ensembles d'apprentissage et de test\n",
    "\n",
    "# On récupère les données correspondantes aux séquences de mots\n",
    "y       = data['label']\n",
    "typ     = data['type']\n",
    "\n",
    "# Indexes des données pour l'entrainement et le test (tels que spécifiés dans data)\n",
    "i_trn  = [i for i in range(len(typ)) if typ[i]=='train']\n",
    "i_tst  = [i for i in range(len(typ)) if typ[i]=='test']\n",
    "\n",
    "# Données d'entrée\n",
    "X_trn = X[i_trn]\n",
    "X_tst = X[i_tst]\n",
    "# Labels de sorties\n",
    "y_trn = y[i_trn]\n",
    "y_tst = y[i_tst]"
   ]
  },
  {
   "cell_type": "markdown",
   "metadata": {
    "id": "IA-t3A8PXd-o"
   },
   "source": [
    "## 3. Déclaration du réseau"
   ]
  },
  {
   "cell_type": "code",
   "execution_count": null,
   "metadata": {
    "id": "zS_KyphGXd-p"
   },
   "outputs": [],
   "source": [
    "# On importe les librairies pour le RNN\n",
    "from tensorflow.keras.layers import Dense , Input , SimpleRNN, LSTM , Embedding, Dropout , Activation, GRU, Flatten\n",
    "from tensorflow.keras.layers import Bidirectional, GlobalMaxPool1D\n",
    "from tensorflow.keras.models import Model, Sequential\n",
    "from tensorflow.keras.layers import Convolution1D\n",
    "from tensorflow.keras import initializers, regularizers, constraints, optimizers, layers"
   ]
  },
  {
   "cell_type": "code",
   "execution_count": null,
   "metadata": {
    "colab": {
     "base_uri": "https://localhost:8080/",
     "height": 295
    },
    "executionInfo": {
     "elapsed": 1269,
     "status": "ok",
     "timestamp": 1603875368887,
     "user": {
      "displayName": "Sofiane Ihaddadene",
      "photoUrl": "https://lh3.googleusercontent.com/a-/AOh14GgtEWwvJRIoSTY9NYoM4UDVaa16O080mgkZ0icLSw=s64",
      "userId": "08383148905956059445"
     },
     "user_tz": -60
    },
    "id": "pZXAeKGyXd-r",
    "outputId": "d65890f1-09df-49f4-a0fc-3510115647b6"
   },
   "outputs": [
    {
     "name": "stdout",
     "output_type": "stream",
     "text": [
      "Model: \"sequential\"\n",
      "_________________________________________________________________\n",
      "Layer (type)                 Output Shape              Param #   \n",
      "=================================================================\n",
      "embedding (Embedding)        (None, None, 128)         640000    \n",
      "_________________________________________________________________\n",
      "simple_rnn (SimpleRNN)       (None, 64)                12352     \n",
      "_________________________________________________________________\n",
      "dropout (Dropout)            (None, 64)                0         \n",
      "_________________________________________________________________\n",
      "dense (Dense)                (None, 1)                 65        \n",
      "=================================================================\n",
      "Total params: 652,417\n",
      "Trainable params: 652,417\n",
      "Non-trainable params: 0\n",
      "_________________________________________________________________\n"
     ]
    }
   ],
   "source": [
    "\n",
    "\n",
    "embed_size = 128                                                   # dimension de l'embedding\n",
    "RNN_size   = 64\n",
    "\n",
    "# On définit l'architecture du réseau\n",
    "model = Sequential()\n",
    "model.add(Embedding(max_features, embed_size))                     # layer embedding\n",
    "model.add(SimpleRNN(RNN_size, return_sequences = False))           # layer RNN\n",
    "model.add(Dropout(0.5))                                            # layer Dropout\n",
    "model.add(Dense(1))                                                # layer Dense\n",
    "\n",
    "# On affiche l'architecture de notre modèle\n",
    "model.summary()\n",
    "\n",
    "# On spécifie la fonction de perte, l'optimiseur, et la fonction d'évaluation\n",
    "model.compile(loss='binary_crossentropy', optimizer='adam', metrics=['accuracy'])\n",
    "\n",
    "# Questions : \n",
    "# 1) Pourquoi introduit entre l'entrée et le RNN une couche d'embedding? A quoi cela sert-il?\n",
    "# 2) Réaliser le schéma du réseau proposé en précisant le dimensions d'entrée et de sortie de chaque couche\n",
    "# 3) Pourquoi utilise-t-on le RNN avec l'option return_sequences = False ?\n",
    "# 4) Pourquoi introduit-on du Dropout?\n"
   ]
  },
  {
   "cell_type": "markdown",
   "metadata": {
    "id": "JHIuIqv5Xd-w"
   },
   "source": [
    "## 4. Entrainement du réseau"
   ]
  },
  {
   "cell_type": "code",
   "execution_count": null,
   "metadata": {
    "colab": {
     "base_uri": "https://localhost:8080/",
     "height": 711
    },
    "executionInfo": {
     "elapsed": 280758,
     "status": "ok",
     "timestamp": 1603875657567,
     "user": {
      "displayName": "Sofiane Ihaddadene",
      "photoUrl": "https://lh3.googleusercontent.com/a-/AOh14GgtEWwvJRIoSTY9NYoM4UDVaa16O080mgkZ0icLSw=s64",
      "userId": "08383148905956059445"
     },
     "user_tz": -60
    },
    "id": "O_nGB3kXXd-x",
    "outputId": "d132993a-462b-4ddd-9d0c-1986bb8d465a",
    "scrolled": true
   },
   "outputs": [
    {
     "name": "stdout",
     "output_type": "stream",
     "text": [
      "Epoch 1/20\n",
      "313/313 [==============================] - 14s 45ms/step - loss: 1.9131 - accuracy: 0.5758 - val_loss: 1.0752 - val_accuracy: 0.2666\n",
      "Epoch 2/20\n",
      "313/313 [==============================] - 13s 43ms/step - loss: 0.8731 - accuracy: 0.7028 - val_loss: 4.6110 - val_accuracy: 0.0660\n",
      "Epoch 3/20\n",
      "313/313 [==============================] - 13s 43ms/step - loss: 1.6829 - accuracy: 0.6446 - val_loss: 2.3637 - val_accuracy: 0.1354\n",
      "Epoch 4/20\n",
      "313/313 [==============================] - 14s 43ms/step - loss: 3.1217 - accuracy: 0.5918 - val_loss: 1.6795 - val_accuracy: 0.0492\n",
      "Epoch 5/20\n",
      "313/313 [==============================] - 14s 44ms/step - loss: 2.3651 - accuracy: 0.6117 - val_loss: 1.6212 - val_accuracy: 0.2854\n",
      "Epoch 6/20\n",
      "313/313 [==============================] - 13s 43ms/step - loss: 3.0134 - accuracy: 0.5979 - val_loss: 2.4896 - val_accuracy: 0.1186\n",
      "Epoch 7/20\n",
      "313/313 [==============================] - 13s 43ms/step - loss: 2.6328 - accuracy: 0.6177 - val_loss: 10.8035 - val_accuracy: 0.0724\n",
      "Epoch 8/20\n",
      "313/313 [==============================] - 13s 43ms/step - loss: 3.0112 - accuracy: 0.6026 - val_loss: 2.8607 - val_accuracy: 0.2520\n",
      "Epoch 9/20\n",
      "313/313 [==============================] - 14s 43ms/step - loss: 2.7269 - accuracy: 0.6136 - val_loss: 5.5810 - val_accuracy: 0.2804\n",
      "Epoch 10/20\n",
      "313/313 [==============================] - 14s 44ms/step - loss: 2.7337 - accuracy: 0.6230 - val_loss: 1.6192 - val_accuracy: 0.2960\n",
      "Epoch 11/20\n",
      "313/313 [==============================] - 14s 43ms/step - loss: 2.2211 - accuracy: 0.6331 - val_loss: 1.2653 - val_accuracy: 0.4946\n",
      "Epoch 12/20\n",
      "313/313 [==============================] - 14s 44ms/step - loss: 1.7067 - accuracy: 0.6685 - val_loss: 1.2033 - val_accuracy: 0.5434\n",
      "Epoch 13/20\n",
      "313/313 [==============================] - 14s 44ms/step - loss: 2.6730 - accuracy: 0.6647 - val_loss: 3.9244 - val_accuracy: 0.2146\n",
      "Epoch 14/20\n",
      "313/313 [==============================] - 14s 43ms/step - loss: 1.6434 - accuracy: 0.6877 - val_loss: 2.9542 - val_accuracy: 0.5932\n",
      "Epoch 15/20\n",
      "313/313 [==============================] - 16s 51ms/step - loss: 2.6961 - accuracy: 0.6042 - val_loss: 3.8316 - val_accuracy: 0.1268\n",
      "Epoch 16/20\n",
      "313/313 [==============================] - 16s 51ms/step - loss: 2.2105 - accuracy: 0.6326 - val_loss: 2.1853 - val_accuracy: 0.2624\n",
      "Epoch 17/20\n",
      "313/313 [==============================] - 14s 45ms/step - loss: 2.0984 - accuracy: 0.6403 - val_loss: 2.4588 - val_accuracy: 0.3800\n",
      "Epoch 18/20\n",
      "313/313 [==============================] - 14s 44ms/step - loss: 2.7395 - accuracy: 0.6249 - val_loss: 6.1388 - val_accuracy: 0.4348\n",
      "Epoch 19/20\n",
      "313/313 [==============================] - 14s 44ms/step - loss: 4.6534 - accuracy: 0.5730 - val_loss: 7.0132 - val_accuracy: 0.3908\n",
      "Epoch 20/20\n",
      "313/313 [==============================] - 13s 43ms/step - loss: 3.8259 - accuracy: 0.5500 - val_loss: 2.6571 - val_accuracy: 0.6852\n"
     ]
    }
   ],
   "source": [
    "# On entraine le réseau\n",
    "batch_size = 64                                                             # tailles des mini-batch\n",
    "epochs = 20                                                                   # nombre d'époques\n",
    "history = model.fit(X_trn,y_trn, batch_size=batch_size, epochs=epochs, validation_split=0.2) # on entraine"
   ]
  },
  {
   "cell_type": "code",
   "execution_count": null,
   "metadata": {
    "id": "IHtkLNkcXd-2",
    "outputId": "f812f90e-b1c8-4d68-e53d-47db26bf3dbe"
   },
   "outputs": [
    {
     "data": {
      "image/png": "[encoded data removed]",
      "text/plain": [
       "<Figure size 432x288 with 1 Axes>"
      ]
     },
     "metadata": {
      "tags": []
     },
     "output_type": "display_data"
    },
    {
     "data": {
      "image/png": "[encoded data removed]",
      "text/plain": [
       "<Figure size 432x288 with 1 Axes>"
      ]
     },
     "metadata": {
      "tags": []
     },
     "output_type": "display_data"
    }
   ],
   "source": [
    "affiche(history)"
   ]
  },
  {
   "cell_type": "code",
   "execution_count": null,
   "metadata": {
    "id": "7Re-hASKXd-8"
   },
   "outputs": [],
   "source": []
  },
  {
   "cell_type": "code",
   "execution_count": null,
   "metadata": {
    "id": "wZMxUG3FXd_A"
   },
   "outputs": [],
   "source": [
    "# On prédit sur l'ensemble de test\n",
    "\n",
    "# On prédit sur les données de test\n",
    "y_hat = model.predict(X_tst)\n",
    "\n",
    "# On tranforme les prédictions en labels\n",
    "i_pos = [i for i in range(len(y_hat)) if y_hat[i]>0]\n",
    "i_neg = [i for i in range(len(y_hat)) if y_hat[i]<=0]\n",
    "\n",
    "y_pred   = np.zeros(len(y_hat))\n",
    "y_pred[i_pos] = 1\n",
    "y_pred[i_neg] = 0\n"
   ]
  },
  {
   "cell_type": "code",
   "execution_count": null,
   "metadata": {
    "id": "cy8ptDhFXd_I"
   },
   "outputs": [],
   "source": [
    "# On importe les librairies pour l'évaluation\n",
    "from sklearn.metrics import accuracy_score \n",
    "from sklearn.metrics import confusion_matrix"
   ]
  },
  {
   "cell_type": "code",
   "execution_count": null,
   "metadata": {
    "colab": {
     "base_uri": "https://localhost:8080/",
     "height": 121
    },
    "executionInfo": {
     "elapsed": 1680,
     "status": "ok",
     "timestamp": 1603875664996,
     "user": {
      "displayName": "Sofiane Ihaddadene",
      "photoUrl": "https://lh3.googleusercontent.com/a-/AOh14GgtEWwvJRIoSTY9NYoM4UDVaa16O080mgkZ0icLSw=s64",
      "userId": "08383148905956059445"
     },
     "user_tz": -60
    },
    "id": "xs6AweTrXd_O",
    "outputId": "8868ab18-d538-401e-ac25-46e5c26a45bc"
   },
   "outputs": [
    {
     "name": "stdout",
     "output_type": "stream",
     "text": [
      "La matrice de confusion sur le jeu de test :\n",
      " [[ 1946 10554]\n",
      " [ 1604 10896]] \n",
      "\n",
      "L accuracy sur le jeu de test est :\n",
      " 0.51368\n"
     ]
    }
   ],
   "source": [
    "\n",
    "\n",
    "# On calcule la matrice de confusion\n",
    "cm_test = confusion_matrix(y_tst, y_pred)\n",
    "print('La matrice de confusion sur le jeu de test :\\n', cm_test, '\\n')\n",
    "\n",
    "# On calcul le score d accuracy\n",
    "acc_train=accuracy_score(y_tst, y_pred)\n",
    "print('L accuracy sur le jeu de test est :\\n', acc_train)\n"
   ]
  },
  {
   "cell_type": "code",
   "execution_count": null,
   "metadata": {
    "id": "9wFVmlOUXd_V"
   },
   "outputs": [],
   "source": [
    "# Questions : \n",
    "# 1) Commenter cette performance. Est-ce satisfaisant? Pourquoi?\n",
    "# 2) Implémenter le même réseau en changeant la couche RNN par une couche LSTM, puis une couche LSTM bi-directionnelle\n",
    "# avec le même nombre de neurones. \n",
    "# Expliquer la différence entre ces deux couches. \n",
    "# Discuter les performances obtenues.\n",
    "# 3) Implémenter un réseau avec deux couches LSTM, l'une avec 64 neurones la seconde avec 32 neurones. \n",
    "# Dans cette configuration, quelles seront les valeurs de return_sequence pour chacune des couches?\n",
    "# Commenter la performance obtenue\n",
    "# 4) Ajouter en sortie du second LSTM une couche GlobalMaxPool1D. A quoi cela sert-il? Mêmes questions que pour 3)\n",
    "# 5) [BONUS] Remplacer cette dernière couche par une couche d'attention. Commenter la performance obtenue"
   ]
  },
  {
   "cell_type": "code",
   "execution_count": null,
   "metadata": {
    "colab": {
     "base_uri": "https://localhost:8080/",
     "height": 1000
    },
    "executionInfo": {
     "elapsed": 11585,
     "status": "ok",
     "timestamp": 1603876315039,
     "user": {
      "displayName": "Sofiane Ihaddadene",
      "photoUrl": "https://lh3.googleusercontent.com/a-/AOh14GgtEWwvJRIoSTY9NYoM4UDVaa16O080mgkZ0icLSw=s64",
      "userId": "08383148905956059445"
     },
     "user_tz": -60
    },
    "id": "wRAd26ByXd_d",
    "outputId": "2c26e992-7355-406d-dde1-c1c012680c46"
   },
   "outputs": [
    {
     "name": "stdout",
     "output_type": "stream",
     "text": [
      "Model: \"sequential_1\"\n",
      "_________________________________________________________________\n",
      "Layer (type)                 Output Shape              Param #   \n",
      "=================================================================\n",
      "embedding_1 (Embedding)      (None, None, 128)         640000    \n",
      "_________________________________________________________________\n",
      "lstm (LSTM)                  (None, 64)                49408     \n",
      "_________________________________________________________________\n",
      "dropout_1 (Dropout)          (None, 64)                0         \n",
      "_________________________________________________________________\n",
      "dense_1 (Dense)              (None, 1)                 65        \n",
      "=================================================================\n",
      "Total params: 689,473\n",
      "Trainable params: 689,473\n",
      "Non-trainable params: 0\n",
      "_________________________________________________________________\n",
      "Epoch 1/20\n",
      "313/313 [==============================] - 32s 103ms/step - loss: 0.6882 - accuracy: 0.7086 - val_loss: 0.5200 - val_accuracy: 0.6610\n",
      "Epoch 2/20\n",
      "313/313 [==============================] - 31s 98ms/step - loss: 0.6472 - accuracy: 0.7079 - val_loss: 0.7177 - val_accuracy: 0.5056\n",
      "Epoch 3/20\n",
      "313/313 [==============================] - 31s 99ms/step - loss: 0.5067 - accuracy: 0.7908 - val_loss: 1.3045 - val_accuracy: 0.2430\n",
      "Epoch 4/20\n",
      "313/313 [==============================] - 31s 100ms/step - loss: 0.5203 - accuracy: 0.8367 - val_loss: 0.7063 - val_accuracy: 0.7532\n",
      "Epoch 5/20\n",
      "313/313 [==============================] - 32s 101ms/step - loss: 0.6813 - accuracy: 0.8537 - val_loss: 0.9643 - val_accuracy: 0.6680\n",
      "Epoch 6/20\n",
      "313/313 [==============================] - 32s 102ms/step - loss: 0.6867 - accuracy: 0.8630 - val_loss: 0.5412 - val_accuracy: 0.6326\n",
      "Epoch 7/20\n",
      "313/313 [==============================] - 32s 101ms/step - loss: 0.4704 - accuracy: 0.8438 - val_loss: 1.0123 - val_accuracy: 0.6510\n",
      "Epoch 8/20\n",
      "313/313 [==============================] - 32s 101ms/step - loss: 1.1593 - accuracy: 0.8245 - val_loss: 4.5701 - val_accuracy: 0.5736\n",
      "Epoch 9/20\n",
      "313/313 [==============================] - 32s 101ms/step - loss: 0.9028 - accuracy: 0.8714 - val_loss: 4.1581 - val_accuracy: 0.4262\n",
      "Epoch 10/20\n",
      "313/313 [==============================] - 32s 102ms/step - loss: 1.0356 - accuracy: 0.8454 - val_loss: 3.7945 - val_accuracy: 0.6208\n",
      "Epoch 11/20\n",
      "313/313 [==============================] - 32s 102ms/step - loss: 0.8685 - accuracy: 0.8789 - val_loss: 3.8534 - val_accuracy: 0.5500\n",
      "Epoch 12/20\n",
      "313/313 [==============================] - 32s 102ms/step - loss: 0.9518 - accuracy: 0.8656 - val_loss: 3.0992 - val_accuracy: 0.5644\n",
      "Epoch 13/20\n",
      "313/313 [==============================] - 32s 101ms/step - loss: 0.8582 - accuracy: 0.8681 - val_loss: 3.9160 - val_accuracy: 0.5948\n",
      "Epoch 14/20\n",
      "313/313 [==============================] - 32s 102ms/step - loss: 0.9149 - accuracy: 0.8825 - val_loss: 3.4462 - val_accuracy: 0.6098\n",
      "Epoch 15/20\n",
      "313/313 [==============================] - 32s 103ms/step - loss: 0.8658 - accuracy: 0.8917 - val_loss: 3.3615 - val_accuracy: 0.6792\n",
      "Epoch 16/20\n",
      "313/313 [==============================] - 32s 104ms/step - loss: 0.9537 - accuracy: 0.8850 - val_loss: 9.2727 - val_accuracy: 0.2968\n",
      "Epoch 17/20\n",
      "313/313 [==============================] - 36s 117ms/step - loss: 1.0499 - accuracy: 0.8826 - val_loss: 3.6129 - val_accuracy: 0.6512\n",
      "Epoch 18/20\n",
      "313/313 [==============================] - 32s 104ms/step - loss: 0.7460 - accuracy: 0.8846 - val_loss: 2.3219 - val_accuracy: 0.4662\n",
      "Epoch 19/20\n",
      "313/313 [==============================] - 32s 103ms/step - loss: 0.5034 - accuracy: 0.8673 - val_loss: 2.2586 - val_accuracy: 0.6514\n",
      "Epoch 20/20\n",
      "313/313 [==============================] - 34s 108ms/step - loss: 0.7327 - accuracy: 0.8566 - val_loss: 1.7206 - val_accuracy: 0.7476\n"
     ]
    },
    {
     "data": {
      "image/png": "[encoded data removed]",
      "text/plain": [
       "<Figure size 432x288 with 1 Axes>"
      ]
     },
     "metadata": {
      "tags": []
     },
     "output_type": "display_data"
    },
    {
     "data": {
      "image/png": "[encoded data removed]",
      "text/plain": [
       "<Figure size 432x288 with 1 Axes>"
      ]
     },
     "metadata": {
      "tags": []
     },
     "output_type": "display_data"
    }
   ],
   "source": [
    "embed_size = 128                                                   # dimension de l'embedding\n",
    "LSTM_size   = 64\n",
    "\n",
    "# On définit l'architecture du réseau\n",
    "model_LSTM_1 = Sequential()\n",
    "model_LSTM_1.add(Embedding(max_features, embed_size))                     # layer embedding\n",
    "model_LSTM_1.add(LSTM(LSTM_size, return_sequences = False, activation = 'relu'))           # layer RNN\n",
    "model_LSTM_1.add(Dropout(0.5))                                            # layer Dropout\n",
    "model_LSTM_1.add(Dense(1))                                                # layer Dense\n",
    "\n",
    "# On affiche l'architecture de notre modèle\n",
    "model_LSTM_1.summary()\n",
    "\n",
    "# On spécifie la fonction de perte, l'optimiseur, et la fonction d'évaluation\n",
    "model_LSTM_1.compile(loss='binary_crossentropy', optimizer='adam', metrics=['accuracy'])\n",
    "\n",
    "# On entraine le réseau\n",
    "batch_size = 64                                                             # tailles des mini-batch\n",
    "epochs = 20                                                                # nombre d'époques\n",
    "history_2 = model_LSTM_1.fit(X_trn,y_trn, batch_size=batch_size, epochs=epochs, validation_split=0.2) # on entraine\n",
    "\n",
    "affiche(history_2)"
   ]
  },
  {
   "cell_type": "code",
   "execution_count": null,
   "metadata": {
    "colab": {
     "base_uri": "https://localhost:8080/",
     "height": 121
    },
    "executionInfo": {
     "elapsed": 13321,
     "status": "ok",
     "timestamp": 1603876395739,
     "user": {
      "displayName": "Sofiane Ihaddadene",
      "photoUrl": "https://lh3.googleusercontent.com/a-/AOh14GgtEWwvJRIoSTY9NYoM4UDVaa16O080mgkZ0icLSw=s64",
      "userId": "08383148905956059445"
     },
     "user_tz": -60
    },
    "id": "puV2gKyCXd_g",
    "outputId": "5d6b6223-2335-4af9-e3d8-ea64e315a77d"
   },
   "outputs": [
    {
     "name": "stdout",
     "output_type": "stream",
     "text": [
      "La matrice de confusion sur le jeu de test :\n",
      " [[ 7123  5377]\n",
      " [ 1049 11451]] \n",
      "\n",
      "L accuracy sur le jeu de test est :\n",
      " 0.74296\n"
     ]
    }
   ],
   "source": [
    "# On prédit sur les données de test\n",
    "y_hat_LSTM_1 = model_LSTM_1.predict(X_tst)\n",
    "\n",
    "# On tranforme les prédictions en labels\n",
    "i_pos = [i for i in range(len(y_hat)) if y_hat_LSTM_1[i]>0]\n",
    "i_neg = [i for i in range(len(y_hat)) if y_hat_LSTM_1[i]<=0]\n",
    "\n",
    "y_pred_LSTM_1   = np.zeros(len(y_hat_LSTM_1))\n",
    "y_pred_LSTM_1[i_pos] = 1\n",
    "y_pred_LSTM_1[i_neg] = 0\n",
    "\n",
    "# On calcule la matrice de confusion\n",
    "cm_test_LSTM_1 = confusion_matrix(y_tst, y_pred_LSTM_1)\n",
    "print('La matrice de confusion sur le jeu de test :\\n', cm_test_LSTM_1, '\\n')\n",
    "\n",
    "# On calcul le score d accuracy\n",
    "acc_train_LSTM_1=accuracy_score(y_tst, y_pred_LSTM_1)\n",
    "print('L accuracy sur le jeu de test est :\\n', acc_train_LSTM_1)\n"
   ]
  },
  {
   "cell_type": "code",
   "execution_count": null,
   "metadata": {
    "colab": {
     "base_uri": "https://localhost:8080/",
     "height": 1000
    },
    "executionInfo": {
     "elapsed": 1348157,
     "status": "ok",
     "timestamp": 1603878219711,
     "user": {
      "displayName": "Sofiane Ihaddadene",
      "photoUrl": "https://lh3.googleusercontent.com/a-/AOh14GgtEWwvJRIoSTY9NYoM4UDVaa16O080mgkZ0icLSw=s64",
      "userId": "08383148905956059445"
     },
     "user_tz": -60
    },
    "id": "HyfAFQlMXd_k",
    "outputId": "5a638dce-c43d-4a86-e0b8-9b26843d953a"
   },
   "outputs": [
    {
     "name": "stdout",
     "output_type": "stream",
     "text": [
      "Model: \"sequential_3\"\n",
      "_________________________________________________________________\n",
      "Layer (type)                 Output Shape              Param #   \n",
      "=================================================================\n",
      "embedding_3 (Embedding)      (None, None, 128)         640000    \n",
      "_________________________________________________________________\n",
      "bidirectional_1 (Bidirection (None, 128)               98816     \n",
      "_________________________________________________________________\n",
      "dropout_3 (Dropout)          (None, 128)               0         \n",
      "_________________________________________________________________\n",
      "dense_3 (Dense)              (None, 1)                 129       \n",
      "=================================================================\n",
      "Total params: 738,945\n",
      "Trainable params: 738,945\n",
      "Non-trainable params: 0\n",
      "_________________________________________________________________\n",
      "Epoch 1/10\n",
      "313/313 [==============================] - 134s 428ms/step - loss: 0.6260 - accuracy: 0.7092 - val_loss: 1.0926 - val_accuracy: 0.6398\n",
      "Epoch 2/10\n",
      "313/313 [==============================] - 132s 423ms/step - loss: 0.5289 - accuracy: 0.7990 - val_loss: 0.7621 - val_accuracy: 0.6712\n",
      "Epoch 3/10\n",
      "313/313 [==============================] - 136s 435ms/step - loss: 0.5972 - accuracy: 0.8266 - val_loss: 1.2468 - val_accuracy: 0.5302\n",
      "Epoch 4/10\n",
      "313/313 [==============================] - 132s 422ms/step - loss: 0.4561 - accuracy: 0.8346 - val_loss: 1.0465 - val_accuracy: 0.5988\n",
      "Epoch 5/10\n",
      "313/313 [==============================] - 133s 425ms/step - loss: 0.4235 - accuracy: 0.8670 - val_loss: 1.3351 - val_accuracy: 0.6942\n",
      "Epoch 6/10\n",
      "313/313 [==============================] - 133s 426ms/step - loss: 0.3614 - accuracy: 0.8903 - val_loss: 1.7043 - val_accuracy: 0.4932\n",
      "Epoch 7/10\n",
      "313/313 [==============================] - 137s 437ms/step - loss: 0.4002 - accuracy: 0.8626 - val_loss: 1.2435 - val_accuracy: 0.7422\n",
      "Epoch 8/10\n",
      "313/313 [==============================] - 133s 426ms/step - loss: 0.8232 - accuracy: 0.8458 - val_loss: 1.7023 - val_accuracy: 0.5178\n",
      "Epoch 9/10\n",
      "313/313 [==============================] - 133s 424ms/step - loss: 0.3845 - accuracy: 0.8908 - val_loss: 1.5400 - val_accuracy: 0.7344\n",
      "Epoch 10/10\n",
      "313/313 [==============================] - 133s 426ms/step - loss: 0.3289 - accuracy: 0.9157 - val_loss: 2.5509 - val_accuracy: 0.3266\n"
     ]
    },
    {
     "data": {
      "image/png": "[encoded data removed]",
      "text/plain": [
       "<Figure size 432x288 with 1 Axes>"
      ]
     },
     "metadata": {
      "tags": []
     },
     "output_type": "display_data"
    },
    {
     "data": {
      "image/png": "[encoded data removed]",
      "text/plain": [
       "<Figure size 432x288 with 1 Axes>"
      ]
     },
     "metadata": {
      "tags": []
     },
     "output_type": "display_data"
    }
   ],
   "source": [
    "embed_size = 128                                                   # dimension de l'embedding\n",
    "LSTM_size   = 64\n",
    "\n",
    "# On définit l'architecture du réseau\n",
    "model_LSTM_2 = Sequential()\n",
    "model_LSTM_2.add(Embedding(max_features, embed_size))                     # layer embedding\n",
    "model_LSTM_2.add(Bidirectional(layer=LSTM(LSTM_size, return_sequences = False, dropout=0.2, recurrent_dropout=0.2),merge_mode=\"concat\", weights=None, backward_layer=None))          # layer RNN\n",
    "model_LSTM_2.add(Dropout(0.8))                                            # layer Dropout\n",
    "model_LSTM_2.add(Dense(1))                                                # layer Dense\n",
    "\n",
    "# On affiche l'architecture de notre modèle\n",
    "model_LSTM_2.summary()\n",
    "\n",
    "# On spécifie la fonction de perte, l'optimiseur, et la fonction d'évaluation\n",
    "model_LSTM_2.compile(loss='binary_crossentropy', optimizer='adam', metrics=['accuracy'])\n",
    "\n",
    "# On entraine le réseau\n",
    "batch_size = 64                                                             # tailles des mini-batch\n",
    "epochs = 10                                                                 # nombre d'époques\n",
    "history_3 = model_LSTM_2.fit(X_trn,y_trn, batch_size=batch_size, epochs=epochs, validation_split=0.2) # on entraine\n",
    "\n",
    "affiche(history_3)"
   ]
  },
  {
   "cell_type": "code",
   "execution_count": null,
   "metadata": {
    "colab": {
     "base_uri": "https://localhost:8080/",
     "height": 121
    },
    "executionInfo": {
     "elapsed": 26082,
     "status": "ok",
     "timestamp": 1603878864648,
     "user": {
      "displayName": "Sofiane Ihaddadene",
      "photoUrl": "https://lh3.googleusercontent.com/a-/AOh14GgtEWwvJRIoSTY9NYoM4UDVaa16O080mgkZ0icLSw=s64",
      "userId": "08383148905956059445"
     },
     "user_tz": -60
    },
    "id": "YriWaPG7Xd_m",
    "outputId": "60c948ad-3f89-4936-93d2-4b8404955db9"
   },
   "outputs": [
    {
     "name": "stdout",
     "output_type": "stream",
     "text": [
      "La matrice de confusion sur le jeu de test :\n",
      " [[ 6223  6277]\n",
      " [ 1108 11392]] \n",
      "\n",
      "L accuracy sur le jeu de test est :\n",
      " 0.7046\n"
     ]
    }
   ],
   "source": [
    "# On prédit sur les données de test\n",
    "y_hat_LSTM_2 = model_LSTM_2.predict(X_tst)\n",
    "\n",
    "# On tranforme les prédictions en labels\n",
    "i_pos = [i for i in range(len(y_hat)) if y_hat_LSTM_2[i]>0]\n",
    "i_neg = [i for i in range(len(y_hat)) if y_hat_LSTM_2[i]<=0]\n",
    "\n",
    "y_pred_LSTM_2   = np.zeros(len(y_hat_LSTM_2))\n",
    "y_pred_LSTM_2[i_pos] = 1\n",
    "y_pred_LSTM_2[i_neg] = 0\n",
    "\n",
    "# On calcule la matrice de confusion\n",
    "cm_test_LSTM_2 = confusion_matrix(y_tst, y_pred_LSTM_2)\n",
    "print('La matrice de confusion sur le jeu de test :\\n', cm_test_LSTM_2, '\\n')\n",
    "\n",
    "# On calcul le score d accuracy\n",
    "acc_train_LSTM_2=accuracy_score(y_tst, y_pred_LSTM_2)\n",
    "print('L accuracy sur le jeu de test est :\\n', acc_train_LSTM_2)"
   ]
  },
  {
   "cell_type": "code",
   "execution_count": null,
   "metadata": {
    "colab": {
     "base_uri": "https://localhost:8080/",
     "height": 997
    },
    "executionInfo": {
     "elapsed": 127313,
     "status": "ok",
     "timestamp": 1603880239701,
     "user": {
      "displayName": "Sofiane Ihaddadene",
      "photoUrl": "https://lh3.googleusercontent.com/a-/AOh14GgtEWwvJRIoSTY9NYoM4UDVaa16O080mgkZ0icLSw=s64",
      "userId": "08383148905956059445"
     },
     "user_tz": -60
    },
    "id": "AQixOAZ9Xd_s",
    "outputId": "b1e6e326-2be0-4504-a151-911c2c7c3a6c"
   },
   "outputs": [
    {
     "name": "stdout",
     "output_type": "stream",
     "text": [
      "Model: \"sequential_7\"\n",
      "_________________________________________________________________\n",
      "Layer (type)                 Output Shape              Param #   \n",
      "=================================================================\n",
      "embedding_7 (Embedding)      (None, None, 128)         640000    \n",
      "_________________________________________________________________\n",
      "lstm_9 (LSTM)                (None, None, 64)          49408     \n",
      "_________________________________________________________________\n",
      "dropout_10 (Dropout)         (None, None, 64)          0         \n",
      "_________________________________________________________________\n",
      "lstm_10 (LSTM)               (None, 32)                12416     \n",
      "_________________________________________________________________\n",
      "dropout_11 (Dropout)         (None, 32)                0         \n",
      "_________________________________________________________________\n",
      "dense_7 (Dense)              (None, 1)                 33        \n",
      "=================================================================\n",
      "Total params: 701,857\n",
      "Trainable params: 701,857\n",
      "Non-trainable params: 0\n",
      "_________________________________________________________________\n",
      "Epoch 1/2\n",
      "313/313 [==============================] - 49s 156ms/step - loss: 0.6205 - accuracy: 0.7253 - val_loss: 1.0600 - val_accuracy: 0.0122\n",
      "Epoch 2/2\n",
      "313/313 [==============================] - 48s 152ms/step - loss: 0.4705 - accuracy: 0.8264 - val_loss: 1.0226 - val_accuracy: 0.3246\n"
     ]
    },
    {
     "data": {
      "image/png": "[encoded data removed]",
      "text/plain": [
       "<Figure size 432x288 with 1 Axes>"
      ]
     },
     "metadata": {
      "tags": []
     },
     "output_type": "display_data"
    },
    {
     "data": {
      "image/png": "[encoded data removed]",
      "text/plain": [
       "<Figure size 432x288 with 1 Axes>"
      ]
     },
     "metadata": {
      "tags": []
     },
     "output_type": "display_data"
    }
   ],
   "source": [
    "embed_size = 128                                                   # dimension de l'embedding\n",
    "LSTM_size   = 64\n",
    "\n",
    "# On définit l'architecture du réseau\n",
    "\n",
    "\n",
    "# On affiche l'architecture de notre modèle\n",
    "model_LSTM_3.summary()\n",
    "\n",
    "# On spécifie la fonction de perte, l'optimiseur, et la fonction d'évaluation\n",
    "model_LSTM_3.compile(loss='binary_crossentropy', optimizer='adam', metrics=['accuracy'])\n",
    "\n",
    "# On entraine le réseau\n",
    "batch_size = 64                                                             # tailles des mini-batch\n",
    "epochs = 2                                                             # nombre d'époques\n",
    "history_4 = model_LSTM_3.fit(X_trn,y_trn, batch_size=batch_size, epochs=epochs, validation_split=0.2) # on entraine\n",
    "\n",
    "affiche(history_4)"
   ]
  },
  {
   "cell_type": "code",
   "execution_count": null,
   "metadata": {
    "colab": {
     "base_uri": "https://localhost:8080/",
     "height": 121
    },
    "executionInfo": {
     "elapsed": 18655,
     "status": "ok",
     "timestamp": 1603880088217,
     "user": {
      "displayName": "Sofiane Ihaddadene",
      "photoUrl": "https://lh3.googleusercontent.com/a-/AOh14GgtEWwvJRIoSTY9NYoM4UDVaa16O080mgkZ0icLSw=s64",
      "userId": "08383148905956059445"
     },
     "user_tz": -60
    },
    "id": "7GFK5AfEXd_z",
    "outputId": "f29bc25a-639e-4249-a134-275684a414e4"
   },
   "outputs": [
    {
     "name": "stdout",
     "output_type": "stream",
     "text": [
      "La matrice de confusion sur le jeu de test :\n",
      " [[ 4481  8019]\n",
      " [  231 12269]] \n",
      "\n",
      "L accuracy sur le jeu de test est :\n",
      " 0.67\n"
     ]
    }
   ],
   "source": [
    "# On prédit sur les données de test\n",
    "y_hat_LSTM_3 = model_LSTM_3.predict(X_tst)\n",
    "\n",
    "# On tranforme les prédictions en labels\n",
    "i_pos = [i for i in range(len(y_hat)) if y_hat_LSTM_3[i]>0]\n",
    "i_neg = [i for i in range(len(y_hat)) if y_hat_LSTM_3[i]<=0]\n",
    "\n",
    "y_pred_LSTM_3   = np.zeros(len(y_hat_LSTM_3))\n",
    "y_pred_LSTM_3[i_pos] = 1\n",
    "y_pred_LSTM_3[i_neg] = 0\n",
    "\n",
    "# On calcule la matrice de confusion\n",
    "cm_test_LSTM_3 = confusion_matrix(y_tst, y_pred_LSTM_3)\n",
    "print('La matrice de confusion sur le jeu de test :\\n', cm_test_LSTM_3, '\\n')\n",
    "\n",
    "# On calcul le score d accuracy\n",
    "acc_train_LSTM_3=accuracy_score(y_tst, y_pred_LSTM_3)\n",
    "print('L accuracy sur le jeu de test est :\\n', acc_train_LSTM_3)"
   ]
  },
  {
   "cell_type": "code",
   "execution_count": null,
   "metadata": {
    "id": "sbSfLdjOXd_3",
    "outputId": "ae0dcb77-876e-4f4a-e9f0-36eb2e139311"
   },
   "outputs": [
    {
     "name": "stdout",
     "output_type": "stream",
     "text": [
      "Model: \"sequential_17\"\n",
      "_________________________________________________________________\n",
      "Layer (type)                 Output Shape              Param #   \n",
      "=================================================================\n",
      "embedding_17 (Embedding)     (None, None, 128)         640000    \n",
      "_________________________________________________________________\n",
      "lstm_25 (LSTM)               (None, None, 64)          49408     \n",
      "_________________________________________________________________\n",
      "lstm_26 (LSTM)               (None, None, 32)          12416     \n",
      "_________________________________________________________________\n",
      "global_max_pooling1d_2 (Glob (None, 32)                0         \n",
      "_________________________________________________________________\n",
      "dropout_16 (Dropout)         (None, 32)                0         \n",
      "_________________________________________________________________\n",
      "dense_16 (Dense)             (None, 1)                 33        \n",
      "=================================================================\n",
      "Total params: 701,857\n",
      "Trainable params: 701,857\n",
      "Non-trainable params: 0\n",
      "_________________________________________________________________\n",
      "Epoch 1/5\n",
      "313/313 [==============================] - 51s 163ms/step - loss: 0.5961 - accuracy: 0.7213 - val_loss: 1.1294 - val_accuracy: 0.5918\n",
      "Epoch 2/5\n",
      "313/313 [==============================] - 54s 174ms/step - loss: 0.5305 - accuracy: 0.7860 - val_loss: 0.4640 - val_accuracy: 0.8040\n",
      "Epoch 3/5\n",
      "313/313 [==============================] - 55s 176ms/step - loss: 0.4453 - accuracy: 0.8461 - val_loss: 0.6737 - val_accuracy: 0.6594\n",
      "Epoch 4/5\n",
      "313/313 [==============================] - 62s 198ms/step - loss: 0.4216 - accuracy: 0.8489 - val_loss: 1.4540 - val_accuracy: 0.6402\n",
      "Epoch 5/5\n",
      "313/313 [==============================] - 58s 186ms/step - loss: 0.4749 - accuracy: 0.8291 - val_loss: 0.9425 - val_accuracy: 0.4896\n"
     ]
    },
    {
     "data": {
      "image/png": "[encoded data removed]",
      "text/plain": [
       "<Figure size 432x288 with 1 Axes>"
      ]
     },
     "metadata": {
      "tags": []
     },
     "output_type": "display_data"
    },
    {
     "data": {
      "image/png": "[encoded data removed]",
      "text/plain": [
       "<Figure size 432x288 with 1 Axes>"
      ]
     },
     "metadata": {
      "tags": []
     },
     "output_type": "display_data"
    }
   ],
   "source": [
    "embed_size = 128                                                   # dimension de l'embedding\n",
    "LSTM_size   = 64\n",
    "\n",
    "# On définit l'architecture du réseau\n",
    "model_LSTM_4 = Sequential()\n",
    "model_LSTM_4.add(Embedding(max_features, embed_size))                     # layer embedding\n",
    "model_LSTM_4.add(LSTM(LSTM_size, return_sequences = True))           # layer RNN\n",
    "model_LSTM_4.add(LSTM(32, return_sequences = True))\n",
    "model_LSTM_4.add(GlobalMaxPool1D())\n",
    "model_LSTM_4.add(Dropout(0.5))                                            # layer Dropout\n",
    "model_LSTM_4.add(Dense(1))                                                # layer Dense\n",
    "\n",
    "# On affiche l'architecture de notre modèle\n",
    "model_LSTM_4.summary()\n",
    "\n",
    "# On spécifie la fonction de perte, l'optimiseur, et la fonction d'évaluation\n",
    "model_LSTM_4.compile(loss='binary_crossentropy', optimizer='adam', metrics=['accuracy'])\n",
    "\n",
    "# On entraine le réseau\n",
    "batch_size = 64                                                             # tailles des mini-batch\n",
    "epochs = 5                                                            # nombre d'époques\n",
    "history_5 = model_LSTM_4.fit(X_trn,y_trn, batch_size=batch_size, epochs=epochs, validation_split=0.2) # on entraine\n",
    "\n",
    "affiche(history_5)"
   ]
  },
  {
   "cell_type": "code",
   "execution_count": null,
   "metadata": {
    "id": "aMQTsL87Xd_8",
    "outputId": "1f544cdc-8daf-4b9a-a5d3-00b14deb9ee0"
   },
   "outputs": [
    {
     "name": "stdout",
     "output_type": "stream",
     "text": [
      "La matrice de confusion sur le jeu de test :\n",
      " [[ 3224  9276]\n",
      " [   81 12419]] \n",
      "\n",
      "L accuracy sur le jeu de test est :\n",
      " 0.6412\n"
     ]
    }
   ],
   "source": [
    "# On prédit sur les données de test\n",
    "y_hat_LSTM_4 = model_LSTM_4.predict(X_tst)\n",
    "\n",
    "# On tranforme les prédictions en labels\n",
    "i_pos = [i for i in range(len(y_hat)) if y_hat_LSTM_4[i]>0]\n",
    "i_neg = [i for i in range(len(y_hat)) if y_hat_LSTM_4[i]<=0]\n",
    "\n",
    "y_pred_LSTM_4   = np.zeros(len(y_hat_LSTM_4))\n",
    "y_pred_LSTM_4[i_pos] = 1\n",
    "y_pred_LSTM_4[i_neg] = 0\n",
    "\n",
    "# On calcule la matrice de confusion\n",
    "cm_test_LSTM_4 = confusion_matrix(y_tst, y_pred_LSTM_3)\n",
    "print('La matrice de confusion sur le jeu de test :\\n', cm_test_LSTM_3, '\\n')\n",
    "\n",
    "# On calcul le score d accuracy\n",
    "acc_train_LSTM_4=accuracy_score(y_tst, y_pred_LSTM_4)\n",
    "print('L accuracy sur le jeu de test est :\\n', acc_train_LSTM_4)"
   ]
  }
 ],
 "metadata": {
  "colab": {
   "name": "703_RNN_LSTM.ipynb",
   "provenance": [],
   "toc_visible": true
  },
  "kernelspec": {
   "display_name": "Python 3 (ipykernel)",
   "language": "python",
   "name": "python3"
  },
  "language_info": {
   "codemirror_mode": {
    "name": "ipython",
    "version": 3
   },
   "file_extension": ".py",
   "mimetype": "text/x-python",
   "name": "python",
   "nbconvert_exporter": "python",
   "pygments_lexer": "ipython3",
   "version": "3.9.13"
  }
 },
 "nbformat": 4,
 "nbformat_minor": 1
}
