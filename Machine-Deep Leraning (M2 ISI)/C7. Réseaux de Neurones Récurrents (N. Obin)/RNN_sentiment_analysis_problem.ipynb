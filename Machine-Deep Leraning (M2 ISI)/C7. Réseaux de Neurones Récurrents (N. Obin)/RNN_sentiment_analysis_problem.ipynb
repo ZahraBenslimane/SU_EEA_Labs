{
 "cells": [
  {
   "cell_type": "markdown",
   "metadata": {},
   "source": [
    "<img src=\"https://upload.wikimedia.org/wikipedia/fr/8/81/Sciences_SU.png\" width=\"240\" height=\"240\" align=\"center\"/>\n"
   ]
  },
  {
   "cell_type": "markdown",
   "metadata": {},
   "source": [
    "# RNN-LSTM et architectures avancées [Analyse de sentiment]"
   ]
  },
  {
   "cell_type": "code",
   "execution_count": 41,
   "metadata": {},
   "outputs": [],
   "source": [
    "# Dans ce notebook, nous allons nous intéresser à des tâches d'analyse de sentiments\n",
    "# -> c'est à dire prédire un label de sentiment (ici positif ou négatif) à partir d'un texte\n",
    "\n",
    "# Ce notebook vise à approfondir : \n",
    "# - L'application du DL sur des données textuelles\n",
    "# - La compréhension des architectures RNN avancées comme les LSTM et les mécanismes d'attention\n",
    "#"
   ]
  },
  {
   "cell_type": "markdown",
   "metadata": {},
   "source": [
    "# 1. Importation des modules"
   ]
  },
  {
   "cell_type": "code",
   "execution_count": 42,
   "metadata": {},
   "outputs": [],
   "source": [
    "# On importe les librairies usuelless\n",
    "import math\n",
    "import numpy as np\n",
    "import matplotlib.pyplot as plt\n",
    "\n",
    "# On désactive les warnings\n",
    "import warnings\n",
    "warnings.filterwarnings('ignore')\n"
   ]
  },
  {
   "cell_type": "markdown",
   "metadata": {},
   "source": [
    "## 1. Charger les données"
   ]
  },
  {
   "cell_type": "markdown",
   "metadata": {},
   "source": [
    "## 2. Formater/Préparer les données"
   ]
  },
  {
   "cell_type": "code",
   "execution_count": 43,
   "metadata": {},
   "outputs": [],
   "source": [
    "# On charge directement la base IMDB par les datasets de Keras\n",
    "# La méthode load_date possède pas mal d'options et de propriétés intéressantes (voir description) :\n",
    "# 1) Sépare les jeux d'entrainement et de test\n",
    "# 2) num_words : Top most frequent words to consider.\n",
    "# 3) skip_top : Top most frequent words to ignore (they will appear as oov_char value in the sequence data).\n",
    "# 4) maxlen : Maximum sequence length. Any longer sequence will be truncated.\n",
    "# 5) seed : Seed for reproducible data shuffling.\n",
    "# 6) start_char : The start of a sequence will be marked with this character. Set to 1 because 0 is usually the padding character.\n",
    "# 7) oov_char : words that were cut out because of the num_words or skip_top limit will be replaced with this character.\n",
    "# 8) index_from : Index actual words with this index and higher.\n",
    "\n",
    "from tensorflow.keras.datasets import imdb\n",
    "\n",
    "num_words = 5000\n",
    "max_len   =  100\n",
    "\n",
    "(x_train, y_train), (x_test, y_test) = imdb.load_data(num_words=num_words,\n",
    "                                                      maxlen=max_len)\n",
    "                                            "
   ]
  },
  {
   "cell_type": "code",
   "execution_count": 44,
   "metadata": {},
   "outputs": [
    {
     "name": "stdout",
     "output_type": "stream",
     "text": [
      "La phrase avant padding est : \n",
      " [1, 778, 128, 74, 12, 630, 163, 15, 4, 1766, 2, 1051, 2, 32, 85, 156, 45, 40, 148, 139, 121, 664, 665, 10, 10, 1361, 173, 4, 749, 2, 16, 3804, 8, 4, 226, 65, 12, 43, 127, 24, 2, 10, 10]\n",
      "La phrase paddée sur une longueur 100 est : \n",
      " [   0    0    0    0    0    0    0    0    0    0    0    0    0    0\n",
      "    0    0    0    0    0    0    0    0    0    0    0    0    0    0\n",
      "    0    0    0    0    0    0    0    0    0    0    0    0    0    0\n",
      "    0    0    0    0    0    0    0    0    0    0    0    0    0    0\n",
      "    0    1  778  128   74   12  630  163   15    4 1766    2 1051    2\n",
      "   32   85  156   45   40  148  139  121  664  665   10   10 1361  173\n",
      "    4  749    2   16 3804    8    4  226   65   12   43  127   24    2\n",
      "   10   10]\n",
      "2773\n"
     ]
    }
   ],
   "source": [
    "from tensorflow.keras.preprocessing.sequence import pad_sequences\n",
    "\n",
    "# On padde les séquences\n",
    "\n",
    "print(\"La phrase avant padding est : \\n {}\". format(x_train[0]))\n",
    "\n",
    "# On padde les séquence de mot\n",
    "max_len       = 100\n",
    "x_train       = pad_sequences(x_train, maxlen=max_len, truncating='post')\n",
    "x_test        = pad_sequences(x_test, maxlen=max_len, truncating='post')\n",
    "\n",
    "print(\"La phrase paddée sur une longueur {} est : \\n {}\". format(max_len, x_train[0]))\n",
    "      \n",
    "print(len(x_train))    "
   ]
  },
  {
   "cell_type": "markdown",
   "metadata": {},
   "source": [
    "## 3. Déclaration du réseau"
   ]
  },
  {
   "cell_type": "markdown",
   "metadata": {},
   "source": [
    "La tâche consiste à prédire la valence d'un texte à partir de son contenu.\n",
    "Pour ce faire nous allons créer une architecture many-to-one \n",
    "avec les réseaux RNNs\n",
    "Le problème consiste à implémenter et apprendre\n",
    "des réseaux avec - par exemple - les configurations suivantes : \n",
    "On va comparer les configurations suivantes : \n",
    "- Simple RNN avec dropout (avec un taux de 25% en sortie du RNN)\n",
    "- RNN-LSTM gauche-droite classique\n",
    "- LSTM bi-directionnel et return_sequences = False\n",
    "- Plusieurs couches au choix. On veillera en particulier \n",
    "  à la valeur des arguments return_sequences\n",
    "  \n",
    "Dans le rapport à faire directement dans le notebook, on prendra soin de :\n",
    "- reporter les losses sur les ensembles d'entrainement et de validation\n",
    "- mesurer l'accuracy sur l'ensemble de test\n",
    "On commentera les résultats obtenus en comparant les configurations\n",
    "Quelle est la configuration donnant la meilleure performance ? \n",
    "Pourquoi ?\n",
    "\n",
    "Aide : une couche LSTM bi-directionnelle est obtenue en appliquant sur la même couche une couche LSTM et une couche Bidirectional"
   ]
  },
  {
   "cell_type": "code",
   "execution_count": 45,
   "metadata": {},
   "outputs": [
    {
     "name": "stdout",
     "output_type": "stream",
     "text": [
      "Model: \"sequential_5\"\n",
      "_________________________________________________________________\n",
      " Layer (type)                Output Shape              Param #   \n",
      "=================================================================\n",
      " embedding_5 (Embedding)     (None, None, 128)         640000    \n",
      "                                                                 \n",
      " simple_rnn_5 (SimpleRNN)    (None, 28)                4396      \n",
      "                                                                 \n",
      " dropout_5 (Dropout)         (None, 28)                0         \n",
      "                                                                 \n",
      " dense_5 (Dense)             (None, 1)                 29        \n",
      "                                                                 \n",
      "=================================================================\n",
      "Total params: 644,425\n",
      "Trainable params: 644,425\n",
      "Non-trainable params: 0\n",
      "_________________________________________________________________\n"
     ]
    }
   ],
   "source": [
    "# On importe les librairies pour le RNN\n",
    "from tensorflow.keras.layers import Dense , Input , SimpleRNN, LSTM , Embedding, Dropout\n",
    "from tensorflow.keras.layers import Bidirectional, GlobalMaxPool1D\n",
    "from tensorflow.keras.models import Model, Sequential\n",
    "from tensorflow.keras.layers import Convolution1D\n",
    "#from tensorflow.keras import initializers, regularizers, constraints, optimizers, layers\n",
    "\n",
    "embed_size = 128                                                   # dimension de l'embedding\n",
    "RNN_size   = 28\n",
    "\n",
    "# Example d'architecture pour le réseau RNN simple avec dropout\n",
    "model = Sequential()\n",
    "model.add(Embedding(num_words, embed_size))                 # layer embedding\n",
    "model.add(SimpleRNN(RNN_size, return_sequences = False))    # layer RNN\n",
    "model.add(Dropout(0.25))                                    # layer Dropout\n",
    "model.add(Dense(1))                                         # layer Dense\n",
    "\n",
    "# On affiche l'architecture de notre modèle\n",
    "model.summary()\n",
    "\n",
    "# On spécifie la fonction de perte, l'optimiseur, et la fonction d'évaluation\n",
    "model.compile(loss='binary_crossentropy', optimizer='adam', metrics=['accuracy'])\n"
   ]
  },
  {
   "cell_type": "markdown",
   "metadata": {},
   "source": [
    "## 4. Entrainement du réseau"
   ]
  },
  {
   "cell_type": "code",
   "execution_count": 46,
   "metadata": {
    "scrolled": true
   },
   "outputs": [
    {
     "name": "stdout",
     "output_type": "stream",
     "text": [
      "Epoch 1/10\n",
      "35/35 [==============================] - 9s 89ms/step - loss: 1.2113 - accuracy: 0.5266 - val_loss: 0.6930 - val_accuracy: 0.6198\n",
      "Epoch 2/10\n",
      "35/35 [==============================] - 2s 66ms/step - loss: 0.4607 - accuracy: 0.8440 - val_loss: 0.6094 - val_accuracy: 0.7243\n",
      "Epoch 3/10\n",
      "35/35 [==============================] - 2s 57ms/step - loss: 0.2208 - accuracy: 0.9445 - val_loss: 1.0011 - val_accuracy: 0.7297\n",
      "Epoch 4/10\n",
      "35/35 [==============================] - 2s 56ms/step - loss: 0.0842 - accuracy: 0.9824 - val_loss: 1.7806 - val_accuracy: 0.7243\n",
      "Epoch 5/10\n",
      "35/35 [==============================] - 2s 46ms/step - loss: 0.0601 - accuracy: 0.9928 - val_loss: 1.0091 - val_accuracy: 0.7459\n",
      "Epoch 6/10\n",
      "35/35 [==============================] - 2s 44ms/step - loss: 0.0574 - accuracy: 0.9896 - val_loss: 1.3175 - val_accuracy: 0.6919\n",
      "Epoch 7/10\n",
      "35/35 [==============================] - 2s 44ms/step - loss: 0.0389 - accuracy: 0.9946 - val_loss: 1.2484 - val_accuracy: 0.7243\n",
      "Epoch 8/10\n",
      "35/35 [==============================] - 2s 49ms/step - loss: 0.0219 - accuracy: 0.9950 - val_loss: 1.3811 - val_accuracy: 0.7153\n",
      "Epoch 9/10\n",
      "35/35 [==============================] - 2s 50ms/step - loss: 0.0128 - accuracy: 0.9995 - val_loss: 1.3202 - val_accuracy: 0.7333\n",
      "Epoch 10/10\n",
      "35/35 [==============================] - 2s 51ms/step - loss: 0.0106 - accuracy: 0.9995 - val_loss: 1.4841 - val_accuracy: 0.7369\n"
     ]
    }
   ],
   "source": [
    "# On entraine le réseau\n",
    "batch_size = 64                                                             # tailles des mini-batch\n",
    "epochs = 10                                                                 # nombre d'époques\n",
    "history = model.fit(x_train,y_train, batch_size=batch_size, epochs=epochs, validation_split=0.2) # on entraine"
   ]
  },
  {
   "cell_type": "code",
   "execution_count": 47,
   "metadata": {},
   "outputs": [
    {
     "data": {
      "image/png": "[encoded data removed]",
      "text/plain": [
       "<Figure size 1000x400 with 2 Axes>"
      ]
     },
     "metadata": {},
     "output_type": "display_data"
    }
   ],
   "source": [
    "# On trace la loss et l'accuracy du modèle\n",
    "\n",
    "def plotTrainingHistory(history):\n",
    "    # On trace l'évolution de l'accuracy\n",
    "    plt.figure(figsize= (10,4))\n",
    "    plt.subplot(1,2,1)\n",
    "    plt.plot(history.history['accuracy'])\n",
    "    plt.plot(history.history['val_accuracy']) \n",
    "    plt.title('model accuracy')\n",
    "    plt.ylabel('accuracy')\n",
    "    plt.xlabel('epoch')\n",
    "    plt.legend(['train', 'test'], loc='upper left')\n",
    "    #plt.show()\n",
    "    # On trace l'évolution de la loss\n",
    "    plt.subplot(1,2,2)\n",
    "    plt.plot(history.history['loss'])\n",
    "    plt.plot(history.history['val_loss'])\n",
    "    plt.title('model loss')\n",
    "    plt.ylabel('loss')\n",
    "    plt.xlabel('epoch')\n",
    "    plt.legend(['train', 'test'], loc='upper left')\n",
    "    #plt.show()\n",
    "    \n",
    "plotTrainingHistory(history)"
   ]
  },
  {
   "cell_type": "code",
   "execution_count": 48,
   "metadata": {},
   "outputs": [
    {
     "name": "stdout",
     "output_type": "stream",
     "text": [
      "93/93 [==============================] - 2s 12ms/step\n"
     ]
    }
   ],
   "source": [
    "history\n",
    "\n",
    "# On prédit sur l'ensemble de test\n",
    "\n",
    "# On prédit sur les données de test\n",
    "y_hat = model.predict(x_test)\n",
    "\n",
    "# On tranforme les prédictions en labels\n",
    "i_pos = [i for i in range(len(y_hat)) if y_hat[i]>0]\n",
    "i_neg = [i for i in range(len(y_hat)) if y_hat[i]<=0]\n",
    "\n",
    "y_pred   = np.zeros(len(y_hat))\n",
    "y_pred[i_pos] = 1\n",
    "y_pred[i_neg] = 0\n"
   ]
  },
  {
   "cell_type": "code",
   "execution_count": 21,
   "metadata": {},
   "outputs": [
    {
     "name": "stdout",
     "output_type": "stream",
     "text": [
      "La matrice de confusion sur le jeu de test :\n",
      " [[ 313 1046]\n",
      " [ 186 1418]] \n",
      "\n",
      "L accuracy sur le jeu de test est :\n",
      " 0.5842051974350321\n"
     ]
    }
   ],
   "source": [
    "# On importe les librairies pour l'évaluation\n",
    "from sklearn.metrics import accuracy_score \n",
    "from sklearn.metrics import confusion_matrix\n",
    "\n",
    "# On calcule la matrice de confusion\n",
    "cm_test = confusion_matrix(y_test, y_pred)\n",
    "print('La matrice de confusion sur le jeu de test :\\n', cm_test, '\\n')\n",
    "\n",
    "# On calcul le score d accuracy\n",
    "acc_train=accuracy_score(y_test, y_pred)\n",
    "print('L accuracy sur le jeu de test est :\\n', acc_train)\n"
   ]
  },
  {
   "cell_type": "markdown",
   "metadata": {},
   "source": [
    "# LSTM"
   ]
  },
  {
   "cell_type": "code",
   "execution_count": 49,
   "metadata": {},
   "outputs": [
    {
     "name": "stdout",
     "output_type": "stream",
     "text": [
      "Model: \"sequential_6\"\n",
      "_________________________________________________________________\n",
      " Layer (type)                Output Shape              Param #   \n",
      "=================================================================\n",
      " embedding_6 (Embedding)     (None, None, 128)         640000    \n",
      "                                                                 \n",
      " simple_rnn_6 (SimpleRNN)    (None, 28)                4396      \n",
      "                                                                 \n",
      " dropout_6 (Dropout)         (None, 28)                0         \n",
      "                                                                 \n",
      " dense_6 (Dense)             (None, 1)                 29        \n",
      "                                                                 \n",
      "=================================================================\n",
      "Total params: 644,425\n",
      "Trainable params: 644,425\n",
      "Non-trainable params: 0\n",
      "_________________________________________________________________\n"
     ]
    }
   ],
   "source": [
    "embed_size = 128                                                   # dimension de l'embedding\n",
    "RNN_size   = 28\n",
    "\n",
    "# Example d'architecture pour le réseau RNN simple avec dropout\n",
    "model = Sequential()\n",
    "model.add(Embedding(num_words, embed_size))                 # layer embedding\n",
    "model.add(SimpleRNN(RNN_size, return_sequences = False))    # layer RNN\n",
    "model.add(Dropout(0.25))                                    # layer Dropout\n",
    "model.add(Dense(1))                                         # layer Dense\n",
    "\n",
    "# On affiche l'architecture de notre modèle\n",
    "model.summary()\n",
    "\n",
    "# On spécifie la fonction de perte, l'optimiseur, et la fonction d'évaluation\n",
    "model.compile(loss='binary_crossentropy', optimizer='adam', metrics=['accuracy'])\n"
   ]
  },
  {
   "cell_type": "code",
   "execution_count": 50,
   "metadata": {},
   "outputs": [
    {
     "name": "stdout",
     "output_type": "stream",
     "text": [
      "Training completed !\n"
     ]
    }
   ],
   "source": [
    "# On entraine le réseau\n",
    "batch_size = 64                                                             # tailles des mini-batch\n",
    "epochs = 10                                                                 # nombre d'époques\n",
    "history = model.fit(x_train,y_train, batch_size=batch_size, epochs=epochs, validation_split=0.2,verbose=0 ) # on entraine\n",
    "print(\"Training completed !\")"
   ]
  },
  {
   "cell_type": "code",
   "execution_count": 52,
   "metadata": {},
   "outputs": [
    {
     "data": {
      "image/png": "[encoded data removed]",
      "text/plain": [
       "<Figure size 1000x400 with 2 Axes>"
      ]
     },
     "metadata": {},
     "output_type": "display_data"
    }
   ],
   "source": [
    "plotTrainingHistory(history)"
   ]
  },
  {
   "cell_type": "code",
   "execution_count": 25,
   "metadata": {},
   "outputs": [
    {
     "name": "stdout",
     "output_type": "stream",
     "text": [
      "93/93 [==============================] - 1s 11ms/step\n"
     ]
    }
   ],
   "source": [
    "history\n",
    "\n",
    "# On prédit sur l'ensemble de test\n",
    "\n",
    "# On prédit sur les données de test\n",
    "y_hat = model.predict(x_test)\n",
    "\n",
    "# On tranforme les prédictions en labels\n",
    "i_pos = [i for i in range(len(y_hat)) if y_hat[i]>0]\n",
    "i_neg = [i for i in range(len(y_hat)) if y_hat[i]<=0]\n",
    "\n",
    "y_pred   = np.zeros(len(y_hat))\n",
    "y_pred[i_pos] = 1\n",
    "y_pred[i_neg] = 0"
   ]
  },
  {
   "cell_type": "code",
   "execution_count": 26,
   "metadata": {},
   "outputs": [
    {
     "name": "stdout",
     "output_type": "stream",
     "text": [
      "La matrice de confusion sur le jeu de test :\n",
      " [[ 239 1120]\n",
      " [ 145 1459]] \n",
      "\n",
      "L accuracy sur le jeu de test est :\n",
      " 0.5730678366520419\n"
     ]
    }
   ],
   "source": [
    "# On importe les librairies pour l'évaluation\n",
    "from sklearn.metrics import accuracy_score \n",
    "from sklearn.metrics import confusion_matrix\n",
    "\n",
    "# On calcule la matrice de confusion\n",
    "cm_test = confusion_matrix(y_test, y_pred)\n",
    "print('La matrice de confusion sur le jeu de test :\\n', cm_test, '\\n')\n",
    "\n",
    "# On calcul le score d accuracy\n",
    "acc_train=accuracy_score(y_test, y_pred)\n",
    "print('L accuracy sur le jeu de test est :\\n', acc_train)\n"
   ]
  },
  {
   "cell_type": "code",
   "execution_count": 57,
   "metadata": {},
   "outputs": [],
   "source": [
    "from keras.models import Sequential\n",
    "from keras.callbacks import History\n",
    "\n",
    "class BaseModel(object):\n",
    "    def __init__(self):\n",
    "\n",
    "        \"\"\"\n",
    "        Constructor to initialize the ConvNet's architecture parameters.\n",
    "        :param config: the JSON configuration namespace.\n",
    "        :param dataset: the training and testing dataset.\n",
    "        :return none\n",
    "        :raises none\n",
    "        \"\"\"\n",
    "        # ConvNet model.\n",
    "        self.dl_model = Sequential()\n",
    "\n",
    "        # History object, holds training history.\n",
    "        self.history = History()\n",
    "\n",
    "        # Evaluation scores.\n",
    "        self.scores = []\n",
    "\n",
    "        # Predicted class labels.\n",
    "        self.predictions = np.array([])\n",
    "\n",
    "        # Construct the ConvNet model.\n",
    "        self.define_model()\n",
    "\n",
    "        # Configure the ConvNet model.\n",
    "        self.compile_model()\n",
    "\n",
    "        # Train the ConvNet model using testing dataset.\n",
    "        self.fit_model()\n",
    "\n",
    "        # Evaluate the ConvNet model using testing dataset.\n",
    "        self.evaluate_model()\n",
    "        \n",
    "        # Training time.\n",
    "        self.train_time = 0\n",
    "\n",
    "        # Predict the class labels of testing dataset.\n",
    "        self.predict()\n",
    "        return"
   ]
  },
  {
   "cell_type": "code",
   "execution_count": 61,
   "metadata": {},
   "outputs": [],
   "source": [
    "class SimpleRNN(BaseModel):\n",
    "\n",
    "    def __init__(self, config, x_train, y_train, x_test, y_test):\n",
    "\n",
    "        super().__init__(config)\n",
    "        self.config  = config\n",
    "        self.x_train = x_train\n",
    "        self.y_train = y_train\n",
    "        self.x_test = x_test\n",
    "        self.y_test = y_test\n",
    "        return\n",
    "\n",
    "    def define_simpleRNN_model(self):\n",
    "        self.dl_model = Sequential()\n",
    "        self.dl_model.add(Embedding(self.config[\"num_words\"], self.config[\"mbed_size\"]))          # layer embedding\n",
    "        self.dl_model.add(SimpleRNN(self.config[\"RNN_size\"], self.config[\"return_sequences\"]))    # layer RNN\n",
    "        self.dl_model.add(Dropout(self.config[\"dropout_percentage\"]))                             # layer Dropout\n",
    "        self.dl_model.add(Dense(1))         \n",
    "        self.dl_model.summary()\n",
    "        return self.dl_model\n",
    "\n",
    "\n",
    "    def compile_model(self):\n",
    "        self.dl_model.compile(  loss = self.config[\"compile_loss\"],\n",
    "                                optimizer = self.config[\"compile_optimizer\"],\n",
    "                                metrics = [self.config[\"compile_metrics\"]]\n",
    "                             )\n",
    "        #model.compile(loss='binary_crossentropy', optimizer='adam', metrics=['accuracy'])\n",
    "\n",
    "    def fit_model(self):\n",
    "\n",
    "        start_time = time.time()\n",
    "        self.history = self.cnn_model.fit( x = x_train,\n",
    "                                           y = y_train,\n",
    "                                           batch_size = self.config[\"batch_size\"],\n",
    "                                           epochs = self.config[\"num_epochs\"],\n",
    "                                           verbose = self.config[\"fit_verbose\"],\n",
    "                                           validation_split = self.config[\"validation_split\"]\n",
    "                                        )\n",
    "        \n",
    "        #history = model.fit(x_train,y_train, batch_size=batch_size, epochs=epochs, validation_split=0.2,verbose=0 ) # on entraine\n",
    "\n",
    "        end_time = time.time()\n",
    "        self.train_time = end_time - start_time\n",
    "        print( \"The model took %0.3f seconds to train.\\n\"%self.train_time )\n",
    "\n",
    "        return\n",
    "        \n",
    "    def evaluate_model(self):\n",
    "        self.scores = self.cnn_model.evaluate( x = x_test,\n",
    "                                               y = y_test,\n",
    "                                               verbose = self.config[\"evaluate_verbose\"]\n",
    "                                            )\n",
    "\n",
    "        print(\"Test loss: \", self.scores[0])\n",
    "        print(\"Test accuracy: \", self.scores[1])\n",
    "\n",
    "        return\n",
    "\n",
    "    def predict(self):\n",
    "        y_hat = self.dl_model.predict( x = x_test,\n",
    "                                                  verbose = self.config[\"predict_verbose\"])\n",
    "        \n",
    "        # On prédit sur les données de test\n",
    "\n",
    "        # On tranforme les prédictions en labels\n",
    "        i_pos = [i for i in range(len(y_hat)) if y_hat[i]>0]\n",
    "        i_neg = [i for i in range(len(y_hat)) if y_hat[i]<=0]\n",
    "\n",
    "        y_pred   = np.zeros(len(y_hat))\n",
    "        y_pred[i_pos] = 1\n",
    "        y_pred[i_neg] = 0\n",
    "        \n",
    "        self.predictions = y_pred\n",
    "\n",
    "        return\n",
    "    \n",
    "    def computeCM(self):\n",
    "        # On calcule la matrice de confusion\n",
    "        cm_test = confusion_matrix(self.y_test, self.predictions)\n",
    "        print('La matrice de confusion sur le jeu de test :\\n', cm_test, '\\n')\n",
    "    \n",
    "    def computeAccuracy(self):\n",
    "        # On calcul le score d accuracy\n",
    "        acc_train=accuracy_score(y_test, self.predictions)\n",
    "        print('L accuracy sur le jeu de test est :\\n', acc_train)"
   ]
  },
  {
   "cell_type": "code",
   "execution_count": 63,
   "metadata": {},
   "outputs": [],
   "source": [
    "config ={\n",
    "    \"num_words\": 5000 ,\n",
    "    \"mbed_size\": 128,\n",
    "    \"RNN_size\": 28,\n",
    "    \"return_sequences\": False,\n",
    "    \"dropout_percentage\" : 0.25,\n",
    "    \n",
    "    \"compile_loss\": 'binary_crossentropy',\n",
    "    \"compile_optimizer\": 'adam',\n",
    "    \"compile_metrics\": 'accuracy',\n",
    "\n",
    "    \"batch_size\": 64,\n",
    "    \"num_epochs\": 10,\n",
    "    \"fit_verbose\": True,\n",
    "    \"validation_split\": 0.25,\n",
    "    \n",
    "    \"evaluate_verbose\": True,\n",
    "    \"predict_verbose\": True,  \n",
    "}\n",
    "\n"
   ]
  },
  {
   "cell_type": "code",
   "execution_count": null,
   "metadata": {},
   "outputs": [],
   "source": [
    "# Construct, compile, train and evaluate the ConvNet Model.\n",
    "simpleRNNmodel = SimpleRNN(config, x_train, y_train, x_test, y_test)"
   ]
  }
 ],
 "metadata": {
  "kernelspec": {
   "display_name": "Python 3 (ipykernel)",
   "language": "python",
   "name": "python3"
  },
  "language_info": {
   "codemirror_mode": {
    "name": "ipython",
    "version": 3
   },
   "file_extension": ".py",
   "mimetype": "text/x-python",
   "name": "python",
   "nbconvert_exporter": "python",
   "pygments_lexer": "ipython3",
   "version": "3.9.13"
  }
 },
 "nbformat": 4,
 "nbformat_minor": 2
}
