{
  "nbformat": 4,
  "nbformat_minor": 0,
  "metadata": {
    "kernelspec": {
      "name": "python3",
      "display_name": "Python 3"
    },
    "colab": {
      "name": "2020_12_07_MU4RBI04_cours_algorithme_genetique.ipynb",
      "provenance": [],
      "collapsed_sections": [
        "6A8xbfQU6N1U",
        "zbl3MRJ16WhW"
      ]
    }
  },
  "cells": [
    {
      "cell_type": "markdown",
      "metadata": {
        "id": "ZocxIod4xrok"
      },
      "source": [
        "# Algorithme génétique pour le problème du max-one\n",
        "\n",
        "*nicolas.bredeche(at)upmc.fr (autre contributeur: Arthur Pajot, Paul Ecoffet)*\n",
        "\n",
        "Mise à jour: \n",
        "* 2017-03-20 - première version\n",
        "* 2018-03-29 - ajout d'une représentation graphique, découpage en cellule\n",
        "* 2020-12-06 - passage en Python 3.x\n",
        "\n",
        "<!--`print()`-->"
      ]
    },
    {
      "cell_type": "markdown",
      "metadata": {
        "id": "hz75nFvC6BP7"
      },
      "source": [
        "# Initialisation et défitions de fonctions d'affichage"
      ]
    },
    {
      "cell_type": "code",
      "metadata": {
        "colab": {
          "base_uri": "https://localhost:8080/"
        },
        "id": "YRpS_tsoxrol",
        "outputId": "cbac466d-0c97-4e92-8cf2-a306b44b054c"
      },
      "source": [
        "#%matplotlib inline\n",
        "#%load_ext Cython\n",
        "\n",
        "import numpy as np\n",
        "import matplotlib as mpl\n",
        "import matplotlib.pyplot as plt\n",
        "\n",
        "import operator\n",
        "import copy\n",
        "\n",
        "import os\n",
        "from datetime import datetime\n",
        "from datetime import date\n",
        "\n",
        "import seaborn as sns\n",
        "sns.set()\n",
        "\n",
        "from random import random, randint, sample\n",
        "\n",
        "print(date.today(), datetime.now().strftime(\"%H:%M:%S\"),\"GMT\") # timestamp is greenwich time\n",
        "print(\"OK.\")"
      ],
      "execution_count": 25,
      "outputs": [
        {
          "output_type": "stream",
          "text": [
            "2020-12-06 20:53:23 GMT\n",
            "OK.\n"
          ],
          "name": "stdout"
        }
      ]
    },
    {
      "cell_type": "code",
      "metadata": {
        "colab": {
          "base_uri": "https://localhost:8080/"
        },
        "id": "EDF5zne5xrom",
        "outputId": "0b0da219-4d28-443a-88cc-5cabae7dfdda"
      },
      "source": [
        "# Graph-related functions\n",
        "\n",
        "def plot(x,y,xMin,xMax,yMin,yMax):\n",
        "    colors = \"red\" #np.random.rand(len(x))\n",
        "    area = np.pi * (5 * np.ones(1))**2\n",
        "    plt.xlim(xMin, xMax)\n",
        "    plt.ylim(yMin, yMax)\n",
        "    plt.scatter( np.asarray(x), np.asarray(y), s=area, c=colors, alpha=0.5)\n",
        "    plt.show()\n",
        "    \n",
        "def plotIndividuals(datapop,xMin=0,xMax=1,yMin=0,yMax=1):\n",
        "    xCoord = []\n",
        "    yCoord = []\n",
        "    \n",
        "    for e in datapop:\n",
        "        xCoord.append(e[0])\n",
        "        yCoord.append(e[1])\n",
        "    \n",
        "    plot(xCoord,yCoord,xMin,xMax,yMin,yMax)\n",
        "\n",
        "print(date.today(), datetime.now().strftime(\"%H:%M:%S\"),\"GMT\") # timestamp is greenwich time\n",
        "print(\"OK.\")"
      ],
      "execution_count": 26,
      "outputs": [
        {
          "output_type": "stream",
          "text": [
            "2020-12-06 20:53:24 GMT\n",
            "OK.\n"
          ],
          "name": "stdout"
        }
      ]
    },
    {
      "cell_type": "markdown",
      "metadata": {
        "id": "6A8xbfQU6N1U"
      },
      "source": [
        "# Définitions de fonctions pour l'algorithme génétique\n",
        "\n",
        "\n",
        "*   Sélection\n",
        "*   Mutation\n",
        "\n"
      ]
    },
    {
      "cell_type": "code",
      "metadata": {
        "scrolled": false,
        "colab": {
          "base_uri": "https://localhost:8080/"
        },
        "id": "s1iYjSj-xrom",
        "outputId": "396f239e-932e-4886-8dda-62fa2b76b394"
      },
      "source": [
        "# Evolution-related functions\n",
        "\n",
        "def evalue(individu):\n",
        "    fitness = 0\n",
        "    for e in individu:\n",
        "        if e == 1:\n",
        "            fitness = fitness + 1\n",
        "    return fitness\n",
        "\n",
        "def mute(individu,pMute):\n",
        "    nouvelIndividu = []\n",
        "    for e in individu:\n",
        "        if random() < pMute:\n",
        "            nouvelIndividu.append( (e + 1) % 2 )\n",
        "        else:\n",
        "            nouvelIndividu.append( e )\n",
        "    return nouvelIndividu\n",
        "\n",
        "print(date.today(), datetime.now().strftime(\"%H:%M:%S\"),\"GMT\") # timestamp is greenwich time\n",
        "print(\"OK.\")"
      ],
      "execution_count": 27,
      "outputs": [
        {
          "output_type": "stream",
          "text": [
            "2020-12-06 20:53:24 GMT\n",
            "OK.\n"
          ],
          "name": "stdout"
        }
      ]
    },
    {
      "cell_type": "markdown",
      "metadata": {
        "id": "zbl3MRJ16WhW"
      },
      "source": [
        "# Algorithme génétique (fonction principale)\n",
        "\n",
        "L'algorithme génétique peut être appelé par un appel à la fonction *main()*. La variable *verbose* permet d'afficher plus ou moins de détails."
      ]
    },
    {
      "cell_type": "code",
      "metadata": {
        "colab": {
          "base_uri": "https://localhost:8080/"
        },
        "id": "79F-hq2Oxrom",
        "outputId": "30caa534-aec1-4272-ef29-53fe87d24c1c"
      },
      "source": [
        "#\n",
        "# MAIN\n",
        "#\n",
        "\n",
        "def main():\n",
        "    # stats\n",
        "\n",
        "    if verbose == True:\n",
        "        print (\"budget évaluation   :\", evaluations)\n",
        "        print (\"nombre de paramètres:\", tailleInd)\n",
        "\n",
        "        print (\"\")\n",
        "        print (\"taille population: \", taillePop)\n",
        "        print (\"taille tournoi: \", tailleTournoi)\n",
        "        print (\"P_mutation:\", Pmutation)\n",
        "        print (\"\")\n",
        "\n",
        "    # initialisation des individus\n",
        "\n",
        "    population = []\n",
        "\n",
        "    for i in range(taillePop):\n",
        "        individu = []\n",
        "        for j in range(tailleInd):\n",
        "            individu.append( randint(0,1) )\n",
        "        population.append([individu,0]) # liste de tuple: N*(genome[],fitness)\n",
        "\n",
        "\n",
        "    # boucle principale \n",
        "\n",
        "    it = 0\n",
        "    stop = False # en cas de succès\n",
        "    nbGen = 0\n",
        "\n",
        "    data = []\n",
        "\n",
        "    while it + taillePop <= evaluations and stop == False:\n",
        "\n",
        "        if verbose == True:\n",
        "            print (\"# Generation\", nbGen,\":\",)\n",
        "\n",
        "        # évalue les individus, et mémorise le meilleur. Selection: (mu=1+4)-ES\n",
        "\n",
        "        for individu in population:\n",
        "            individu[1] = evalue(individu[0])\n",
        "\n",
        "        # affiche la population\n",
        "\n",
        "        meilleureFitness = 0\n",
        "        meilleurIndividu = []\n",
        "        for individu in population:\n",
        "            #print individu[0],\"- fitness: \",individu[1]\n",
        "            if individu[1] > meilleureFitness:\n",
        "                meilleureFitness = individu[1]\n",
        "                meilleurIndividu = individu[:]\n",
        "        if verbose == True:\n",
        "            #s = \"\"\n",
        "            #for i in meilleurIndividu[0]:\n",
        "            #  s += str(i) + \" \"\n",
        "            #s += \"- fitness: \" + meilleureFitness + \"/\" + tailleIn\n",
        "            s = ''.join(str(i) for i in meilleurIndividu[0]) + \"- fitness: \" + str(meilleureFitness) + \"/\" + str(tailleInd)\n",
        "            print (\"\\t\",s)\n",
        "\n",
        "        data.append([it+taillePop,meilleureFitness])\n",
        "\n",
        "\n",
        "\n",
        "        if meilleureFitness == tailleInd:\n",
        "            if verbose == True:\n",
        "                print (\"Succès!\")\n",
        "            stop = True\n",
        "            break\n",
        "\n",
        "        # construit une nouvelle population\n",
        "\n",
        "        nouvellePopulation = []\n",
        "\n",
        "        for i in range(taillePop):\n",
        "\n",
        "            # sélectionne K individus (au hasard) pour le tournoi\n",
        "            tournoi = sample(list(range(taillePop)),tailleTournoi) # renvoi les index de K individus parmis N\n",
        "\n",
        "            # sélectionne le meilleur parmis les K individus (classe par ordre croissant, renvoi le dernier élément selon le fitness)\n",
        "            parent = population[ sorted(tournoi, key=lambda x:population[x][1])[-1] ][0]\n",
        "\n",
        "            # crée un nouvel individu par mutation de l'individu parent, et ajoute à la nouvelle population\n",
        "            nouvelIndividu = mute(parent,Pmutation)\n",
        "            nouvellePopulation.append([nouvelIndividu,0])\n",
        "\n",
        "        # passe a la génération suivante\n",
        "\n",
        "        population = nouvellePopulation[:]\n",
        "        it = it + taillePop\n",
        "        nbGen += 1\n",
        "\n",
        "    # affichage\n",
        "\n",
        "    plotIndividuals(data,0,evaluations,0,tailleInd)\n",
        "    print (\"Meilleur solution:\", meilleurIndividu)\n",
        "\n",
        "print(date.today(), datetime.now().strftime(\"%H:%M:%S\"),\"GMT\") # timestamp is greenwich time\n",
        "print(\"OK.\")\n"
      ],
      "execution_count": 37,
      "outputs": [
        {
          "output_type": "stream",
          "text": [
            "2020-12-06 21:14:05 GMT\n",
            "OK.\n"
          ],
          "name": "stdout"
        }
      ]
    },
    {
      "cell_type": "markdown",
      "metadata": {
        "id": "aq9nAEHZxrom"
      },
      "source": [
        "# Problème du max-one\n",
        "\n",
        "**Données du problème**\n",
        "* représentation: une solution candidate définie comme une suite finie de 0 et de 1 (ici: 30 valeurs)\n",
        "* objectif: la fonction fitness calcule une distance de Hamming entre la solution candidate et la solution optimale (ici: l'objectif est artificiellement fixé comme une suite de 1)\n",
        "* algorithme: algorithme génétique avec opérateur de mutation, sélection par tournoi\n",
        "* le *nombre d'évaluation* et la *taille des individus* sont fixés. Ce sont des contraintes du problème.\n",
        "\n",
        "**Degrés de liberté**\n",
        "* les valeurs de la *taille de la population*, la *taille du tournoi*, et la *probabilité de mutation par gène* sont à choisir\n",
        "\n",
        "**Mise en pratique**\n",
        "* modifiez et observez l'influence des valeurs de *taillePop*, *tailleTournoi* et *Pmutation* sur la vitesse de convergence. Attention, il s'agit d'une algorithme stochastique, donc deux exécutions peuvent mener à des résultats différents.\n",
        "* implémentez un opérateur de croisement de type *one-point cross-over*."
      ]
    },
    {
      "cell_type": "code",
      "metadata": {
        "id": "_QDx3CRbxrom"
      },
      "source": [
        "print (\"\\nProblème MAX-ONE\\n\")\n",
        "\n",
        "# contraintes du problème (budget et représentation)\n",
        "\n",
        "evaluations = 300\n",
        "tailleInd = 30\n",
        "\n",
        "# paramètres à régler (modifiable)\n",
        "\n",
        "taillePop = 10\n",
        "tailleTournoi = 8\n",
        "Pmutation = 1.0/tailleInd\n",
        "\n",
        "verbose = True\n",
        "\n",
        "main()"
      ],
      "execution_count": null,
      "outputs": []
    },
    {
      "cell_type": "code",
      "metadata": {
        "id": "hP3P5u65xrom"
      },
      "source": [
        ""
      ],
      "execution_count": null,
      "outputs": []
    }
  ]
}